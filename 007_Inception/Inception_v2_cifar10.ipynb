{
 "cells": [
  {
   "cell_type": "markdown",
   "metadata": {
    "colab_type": "text",
    "id": "NF2IR5u8-0xo"
   },
   "source": [
    "# InceptionV2\n",
    "\n",
    "In this notebook we will be implementing a modified version of [paper], a neural network model that uses convolutional neural network (CNN) layers and was designed for the [ImageNet challenge](http://www.image-net.org/challenges/LSVRC/). \n",
    "\n",
    "ImageNet dataset consist on a set of images (the authors used 1.28 million training images, 50k validation images and 100k test images) of size (224x224) belonging to 1000 different classes. However, [CIFAR10](https://www.cs.toronto.edu/~kriz/cifar.html) consist on a different set of images (45k training images, 5k validation images and 10k testing images) distributed into just 10 different classes. The classes are: <font color = red>airplane, automobile, bird, cat, deer, dog, frog, horse, ship, truck</font>. \n",
    "\n",
    "<br>\n",
    "<div style=\"text-align: center\">\n",
    "    <img src=\"./../assets/cifar10.png\" width=\"70%\">\n",
    "</div>\n",
    "<br>\n",
    "\n",
    "You can read this [website](https://medium.com/coinmonks/paper-review-of-googlenet-inception-v1-winner-of-ilsvlc-2014-image-classification-c2b3565a64e7) to study GooLeNet and NiN.\n",
    "\n",
    "- The paper [Rethinking the Inception Architecture for Computer Vision](https://arxiv.org/pdf/1512.00567v3.pdf) proposed a number of upgrades which increase the accuracy and reduce the computational complexity of a deep convolutional network. The authors studied it in the context of the Inception architecture.\n",
    " \n",
    "- They also studied how factorizing convolutions and aggressive dimension reductions inside neural network can result in networks with relatively low computational cost while maintaining high quality.\n",
    "\n",
    "- They benchmarked their results on the ILSVRC 2012 classification challenge validation with a single model that has:    \n",
    "    - less than 25 million parameters\n",
    "    - 5 billion multiply-adds operations (for a single inference).\n",
    "    - top-1 and top-5 error rate of 21.2% and 5.6%.\n",
    "\n",
    "\n",
    "## General design principles\n",
    "\n",
    "- They proposed few general design principles and optimization ideas that proved to be useful for scaling up convolution networks in efficient ways. The author issues to use these ideas judiciously!\n",
    "    - **Avoid representational bottlenecks, especially early in the network**. Down scale the input image and the feature maps gently.\n",
    "    - **The more different filters you have, the more different feature maps** (higher dimensional representations) **you will have and the faster your network will learn** because it will have access to more different informations leading to detect which features are salient earlier in the training. \n",
    "    - **Spatial aggregation (dimension reduction) can be done over lower dimensional embeddings without much or any loss in representational power.** It means that in the inception module, performing a 1x1 convolution before a 3x3 convolution will not cause serious adverse effects. This will even promotes faster learning.\n",
    "    - **Optimal performance of the network can be reach by a careful balance between the width and depth**.\n",
    "\n",
    "\n",
    "## Factorizing convolutions\n",
    "\n",
    "- They have studied how factorizing convolutions and aggressive dimension reductions inside neural network can result in networks with relatively low computational cost while maintaining high quality.\n",
    "\n",
    "\n",
    "- They factorize 5x5 convolution into two stacked 3x3 convolution which result in a $(9+9)/25$ computation load reduction with a relative gain of $28\\%$ by this factorization.\n",
    "    \n",
    "    <div style=\"text-align:center\">\n",
    "        <img src=\"https://raw.githubusercontent.com/valoxe/image-storage-1/master/research-paper-summary/inception-v2-v3/1.png\">\n",
    "    </div>\n",
    "    \n",
    "    - To get these numbers, let's say we have a 5x5 input image and after a convolution, we want to produce a 5x5 output image (use of padding). The goal is to compare the number of operations between a 5x5 convolution and 2 stacked 3x3 convolutions.\n",
    "\n",
    "        - With a 5x5 convolution, we need a padding of 2.\n",
    "            - \\# of operations = 5x5x5x5 = 25x25.\n",
    "\n",
    "        - With 2 stacked 3x3 convolution, we need a padding of 1 for each convolution.\n",
    "            - \\# of operations = 5x5x3x3 + 5x5x3x3 = 25x9 + 25x9 = 25x18.\n",
    "        \n",
    "    - Thus, 2 stacked 3x3 convolutions reduce the computation load by  $(9+9)/25$ ((25x18)/(25x25) = 18/25 = (9+9)/25) which result in a computation saving of $28\\%$ by this factorization ((1 - 18/25)*100 = 28\\%).\n",
    "\n",
    "    - Moreover, it is worth noticing that 2 stacked 3x3 filters give the same receptive field as as a 5x5 filter.\n",
    "\n",
    "\n",
    "- They factorize n x n convolution into a combination of 1 x n convolution and n x 1 convolution. They call it \"asymmetric convolution\". \n",
    "\n",
    "- For example, a 3x3 convolution is equivalent to first performing a 1x3 convolution, and then performing a 3x1 convolution on its output. They found it to be $33\\%$ cheaper than a single 3x3 convolution.\n",
    "\n",
    "    - Same experience as above but this time with a 3x3 input/output image:\n",
    "        - with a 3x3 convolution, we need a padding of 1:\n",
    "            - \\# of operations = 3x3x3x3 = 81. \n",
    "        - with combination of 1x3 / 3x1 convolutions, we need a padding of 1 for each convolution:\n",
    "            - \\# of operations = 3x3x1x3 + 3x3x3x1 = 54.\n",
    "        - Thus, a combination of 1x3 and 3x1 convolutions result in a computation saving of  $33\\%$ ((1 - (54/81))*100 = 33\\%) by this factorization.\n",
    "        <br>\n",
    "        <div style=\"text-align:center\">\n",
    "        <img src=\"https://raw.githubusercontent.com/valoxe/image-storage-1/master/research-paper-summary/inception-v2-v3/2.png\" width=\"60%\">\n",
    "        </div>\n",
    "        \n",
    "        \n",
    "## Grid size reduction\n",
    "\n",
    "- Traditionally, convolutional networks use some pooling before convolution operations to reduce the gride size of the feature maps. Problem is, it can introduce a representational bottleneck.\n",
    "\n",
    "\n",
    "- The authors think that increasing the number of filters (expand the filter bank) remove the representational bottleneck. This is achieved by the inception module. \n",
    "\n",
    "<div style=\"text-align:center\">\n",
    "    <img src=\"https://raw.githubusercontent.com/valoxe/image-storage-1/master/research-paper-summary/inception-v2-v3/3.png\">\n",
    "</div>\n",
    "<br>\n",
    "\n",
    "- In the left picture, we are introducing a representational bottleneck by first reducing the grid size and then expanding the filter bank which is the other way around in the right picture. \n",
    "- To get the intuition behind it, let's follow this simple example. Suppose you are a primary student split between choosing either general study or technical study.\n",
    "    -  It makes more sense to choose general study to learn first different stuffs and then specialize in what you like (expand first, reduce after). By specializing first (reduce first), you will close yourself some doors (loss of information) so if you don't like what you chose and try to look for other fields after (expand after), then it will be harder to find something different.\n",
    "\n",
    "- However, the right side is more expensive so they proposed another solution that reduces the computational cost while eliminating the bottleneck (by using 2 parallel stride 2 pooling/convolution blocks).\n",
    "\n",
    "<div style=\"text-align:center\">\n",
    "    <img src=\"https://raw.githubusercontent.com/valoxe/image-storage-1/master/research-paper-summary/inception-v2-v3/4.png\">\n",
    "    <figcaption> The diagram on the right represents the same <br> solution but from the perspective of grid sizes<br> rather than the operations.</figcaption>\n",
    "</div>\n",
    "<br>\n",
    "\n",
    "## Inception-V2\n",
    "\n",
    "Whole network is 42 layers deep, computational cost is 2.5 times higher than GoogLeNet.\n",
    "\n",
    "<div style=\"text-align:center\">\n",
    "    <img src=\"https://raw.githubusercontent.com/valoxe/image-storage-1/master/research-paper-summary/inception-v2-v3/5.png\">\n",
    "</div>\n",
    "<br>\n",
    "<div style=\"text-align:center\">\n",
    "    <img src=\"https://raw.githubusercontent.com/valoxe/image-storage-1/master/research-paper-summary/inception-v2-v3/6.png\">\n",
    "</div>\n",
    "<br>\n",
    "\n",
    "<ins>**Remark:**</ins> Authors say they use variations of reduction technique (picture below) to reduce the grid sizes between the Inception blocks whenever applicable. They also add an auxilary classifier on top of the last 17×17 layer.\n",
    "\n",
    "<div style=\"text-align:center\">\n",
    "    <img src=\"https://raw.githubusercontent.com/valoxe/image-storage-1/master/research-paper-summary/inception-v2-v3/7.png\">\n",
    "</div>\n",
    "\n",
    "## Utility of Auxiliary Classifiers\n",
    "\n",
    "- Authors say that they didn't contribute much but act more as regularizer if used with batch normalization or dropout.\n",
    "\n",
    "## Label smoothing\n",
    "\n",
    "- In CNN, the label is a vector. If you have 3 class, the one-hot labels are [0, 0, 1] or [0, 1, 0] or [1, 0, 0]. Each of the vector stands for a class at the output layer. Label smoothing, in my understanding, is to use a relatvely smooth vector to represent a ground truth label. Say [0, 0, 1] can be represented as [0.1, 0.1, 0.8]. It is used when the loss function is the cross entropy function.\n",
    " \n",
    "- According to the author:\n",
    "    - First, it (using unsmoothed label) may result in overfitting: if the model learns to assign full probability to the ground-truth label for each training example, it is not guaranteed to generalize. \n",
    "    - Second, it encourages the differences between the largest logit and all others to become large, and this, combined with the bounded gradient, reduces the ability of the model to adapt. Intuitively, this happens because the model becomes too confident about its predictions.\n",
    "\n",
    "- They claim that by using label smoothing, the top-1 and top-5 error rate are reduced by 0.2%.\n",
    "\n",
    "\n",
    "## Architecture\n",
    "\n",
    "<div style=\"text-align:center\">\n",
    "    <img src=\"https://raw.githubusercontent.com/valoxe/image-storage-1/master/research-paper-summary/inception-v2-v3/8.png\">\n",
    "</div>\n",
    "\n",
    "<div style=\"text-align:center\">\n",
    "    <img src=\"https://raw.githubusercontent.com/valoxe/image-storage-1/master/research-paper-summary/inception-v2-v3/9.png\">\n",
    "</div>\n",
    "\n",
    "<div style=\"text-align:center\">\n",
    "    <img src=\"https://raw.githubusercontent.com/valoxe/image-storage-1/master/research-paper-summary/inception-v2-v3/10.png\">\n",
    "</div>\n",
    "\n",
    "<div style=\"text-align:center\">\n",
    "    <img src=\"https://raw.githubusercontent.com/valoxe/image-storage-1/master/research-paper-summary/inception-v2-v3/11.png\">\n",
    "</div>\n",
    "\n",
    "\n",
    "## Data Processing\n",
    "\n",
    "As always, we'll import the modules we need. A new import is the `_LRScheduler` which we will use to implement our learning rate finder.\n",
    "\n",
    "[paper]: https://arxiv.org/pdf/1512.00567v3.pdf"
   ]
  },
  {
   "cell_type": "code",
   "execution_count": 1,
   "metadata": {
    "colab": {},
    "colab_type": "code",
    "id": "XYaxtUEgIafG"
   },
   "outputs": [],
   "source": [
    "import torch\n",
    "import torch.nn as nn\n",
    "import torch.nn.functional as F\n",
    "import torch.optim as optim\n",
    "from torch.optim.lr_scheduler import _LRScheduler\n",
    "import torch.utils.data as data\n",
    "from collections import namedtuple\n",
    "\n",
    "import torchvision.transforms as transforms\n",
    "import torchvision.datasets as datasets\n",
    "from torchvision import models\n",
    "\n",
    "from sklearn import decomposition\n",
    "from sklearn import manifold\n",
    "from sklearn.metrics import confusion_matrix\n",
    "from sklearn.metrics import ConfusionMatrixDisplay\n",
    "from tqdm.notebook import tqdm, trange\n",
    "import matplotlib.pyplot as plt\n",
    "import numpy as np\n",
    "import pandas as pd\n",
    "import copy, random, time"
   ]
  },
  {
   "cell_type": "markdown",
   "metadata": {
    "colab_type": "text",
    "id": "1FcvzjWq-0xs"
   },
   "source": [
    "We set the random seed so all of our experiments can be reproduced."
   ]
  },
  {
   "cell_type": "code",
   "execution_count": 2,
   "metadata": {
    "colab": {},
    "colab_type": "code",
    "id": "QfZxvR09IafJ"
   },
   "outputs": [],
   "source": [
    "SEED = 1234\n",
    "\n",
    "random.seed(SEED)\n",
    "np.random.seed(SEED)\n",
    "torch.manual_seed(SEED)\n",
    "torch.cuda.manual_seed(SEED)\n",
    "torch.backends.cudnn.deterministic = True"
   ]
  },
  {
   "cell_type": "markdown",
   "metadata": {
    "colab_type": "text",
    "id": "uecfsf1f-0xw"
   },
   "source": [
    "We calculate the mean and standard deviation of our data so we can normalize it.\n",
    "\n",
    "Our dataset is made up of color images but three color channels (red, green and blue), compared to MNIST's black and white images with a single color channel. To normalize our data we need to calculate the means and standard deviations for each of the color channels independently. \n",
    "\n",
    "To do this we pass a tuple containing the axes we want to take the means and standard deviations over to the `mean` and `std` functions and we receive a list of means and standard deviations for each of the three color channels."
   ]
  },
  {
   "cell_type": "code",
   "execution_count": 3,
   "metadata": {
    "colab": {
     "base_uri": "https://localhost:8080/",
     "height": 66
    },
    "colab_type": "code",
    "id": "IprUgI0fIafN",
    "outputId": "9be94ef6-0588-41e8-e980-bc42c1700242"
   },
   "outputs": [
    {
     "name": "stdout",
     "output_type": "stream",
     "text": [
      "Files already downloaded and verified\n",
      "Calculated means: [0.49139968 0.48215841 0.44653091]\n",
      "Calculated stds: [0.24703223 0.24348513 0.26158784]\n"
     ]
    }
   ],
   "source": [
    "ROOT = './../data'\n",
    "\n",
    "# specify the names of the classes\n",
    "classes_dict = {0 : 'airplane', 1 : 'automobile', 2: 'bird', 3 : 'cat', 4 : 'deer', \n",
    "                5: 'dog', 6:'frog', 7 : 'horse', 8 : 'ship', 9 : 'truck'}\n",
    "\n",
    "train_data = datasets.CIFAR10(root=ROOT,\n",
    "                              train=True,\n",
    "                              download=True)\n",
    "\n",
    "means = train_data.data.mean(axis=(0, 1, 2)) / 255\n",
    "stds = train_data.data.std(axis=(0, 1, 2)) / 255\n",
    "\n",
    "print(f'Calculated means: {means}')\n",
    "print(f'Calculated stds: {stds}')"
   ]
  },
  {
   "cell_type": "markdown",
   "metadata": {
    "colab_type": "text",
    "id": "ajVaWn_7-0x0"
   },
   "source": [
    "Next up is defining the transforms for data augmentation. \n",
    "\n",
    "The images in the CIFAR10 dataset are significantly more complex than the MNIST dataset. They are larger, have three times the amount of pixels and are more cluttered. This makes them harder to learn and consequently means we should use less augmentation.\n",
    "\n",
    "A new transform we use is `RandomHorizontalFlip`. This, with a probability of `0.5` as specified, flips the image horizontally. So an image of a horse facing to the right will be flipped so it will face to the left. We couldn't do this in the MNIST dataset as we are not expecting our test set to contain any flipped digits, however natural images, such as those in the CIFAR10 dataset, can potentially be flipped as they still make visual sense.\n",
    "\n",
    "As our `means` and `stds` are now already in lists we do not need to enclose them in lists as we did for the single channel images in the MNIST dataset."
   ]
  },
  {
   "cell_type": "code",
   "execution_count": 4,
   "metadata": {
    "colab": {},
    "colab_type": "code",
    "id": "tfzKdrpfIafR"
   },
   "outputs": [],
   "source": [
    "train_transforms = transforms.Compose([\n",
    "                           transforms.RandomRotation(5),\n",
    "                           transforms.RandomHorizontalFlip(0.5),\n",
    "                           transforms.RandomCrop(32, padding=2),\n",
    "                           transforms.ToTensor(),\n",
    "                           transforms.Normalize(mean=means,\n",
    "                                                std=stds)\n",
    "                       ])\n",
    "\n",
    "test_transforms = transforms.Compose([\n",
    "                           transforms.ToTensor(),\n",
    "                           transforms.Normalize(mean=means,\n",
    "                                                std=stds)\n",
    "                       ])"
   ]
  },
  {
   "cell_type": "markdown",
   "metadata": {
    "colab_type": "text",
    "id": "TPLqEffl-0x3"
   },
   "source": [
    "Next, as standard, we'll load the dataset with our transforms..."
   ]
  },
  {
   "cell_type": "code",
   "execution_count": 5,
   "metadata": {
    "colab": {
     "base_uri": "https://localhost:8080/",
     "height": 50
    },
    "colab_type": "code",
    "id": "vqxev2wBIafU",
    "outputId": "0268171f-6a47-424b-a989-3b6ea275409e"
   },
   "outputs": [
    {
     "name": "stdout",
     "output_type": "stream",
     "text": [
      "Files already downloaded and verified\n",
      "Files already downloaded and verified\n"
     ]
    }
   ],
   "source": [
    "train_data = datasets.CIFAR10(ROOT,\n",
    "                              train=True,\n",
    "                              download=True,\n",
    "                              transform=train_transforms)\n",
    "\n",
    "test_data = datasets.CIFAR10(ROOT,\n",
    "                             train=False,\n",
    "                             download=True,\n",
    "                             transform=test_transforms)"
   ]
  },
  {
   "cell_type": "markdown",
   "metadata": {
    "colab_type": "text",
    "id": "FjI3JE5N-0x6"
   },
   "source": [
    "...create a validation set from our training set..."
   ]
  },
  {
   "cell_type": "code",
   "execution_count": 6,
   "metadata": {
    "colab": {},
    "colab_type": "code",
    "id": "NyMEMaDUIafX"
   },
   "outputs": [],
   "source": [
    "VALID_RATIO = 0.9\n",
    "\n",
    "n_train_examples = int(len(train_data) * VALID_RATIO)\n",
    "n_valid_examples = len(train_data) - n_train_examples\n",
    "\n",
    "train_data, valid_data = data.random_split(train_data,\n",
    "                                           [n_train_examples, n_valid_examples])"
   ]
  },
  {
   "cell_type": "markdown",
   "metadata": {
    "colab_type": "text",
    "id": "8IUMURwF-0x-"
   },
   "source": [
    "...and ensure our validation set uses the test transforms."
   ]
  },
  {
   "cell_type": "code",
   "execution_count": 7,
   "metadata": {
    "colab": {},
    "colab_type": "code",
    "id": "sKvCJ2_EQUgD"
   },
   "outputs": [],
   "source": [
    "valid_data = copy.deepcopy(valid_data)\n",
    "valid_data.dataset.transform = test_transforms"
   ]
  },
  {
   "cell_type": "markdown",
   "metadata": {
    "colab_type": "text",
    "id": "yjflicvF-0yB"
   },
   "source": [
    "We print out the number of examples in each set of data to ensure everything has gone OK so far. The total num of CIFAR10 is 60000."
   ]
  },
  {
   "cell_type": "code",
   "execution_count": 8,
   "metadata": {
    "colab": {
     "base_uri": "https://localhost:8080/",
     "height": 66
    },
    "colab_type": "code",
    "id": "enX-chu-Iafc",
    "outputId": "b62f02b5-7ae1-4ff7-8ab3-5d006c811576"
   },
   "outputs": [
    {
     "name": "stdout",
     "output_type": "stream",
     "text": [
      "Number of training examples: 45000\n",
      "Number of validation examples: 5000\n",
      "Number of testing examples: 10000\n",
      "Number of all examples: 60000\n"
     ]
    }
   ],
   "source": [
    "print(f'Number of training examples: {len(train_data)}')\n",
    "print(f'Number of validation examples: {len(valid_data)}')\n",
    "print(f'Number of testing examples: {len(test_data)}')\n",
    "print(f'Number of all examples: {len(train_data) + len(valid_data) + len(test_data)}')"
   ]
  },
  {
   "cell_type": "markdown",
   "metadata": {
    "colab_type": "text",
    "id": "bAFVQhu4-0yN"
   },
   "source": [
    "We'll be normalizing our images by default from now on, so we'll write a function that does it for us which we can use whenever we need to renormalize an image."
   ]
  },
  {
   "cell_type": "code",
   "execution_count": 9,
   "metadata": {
    "colab": {},
    "colab_type": "code",
    "id": "gVDM7PTCswBx"
   },
   "outputs": [],
   "source": [
    "def normalize_image(image):\n",
    "    image_min = image.min()\n",
    "    image_max = image.max()\n",
    "    image.clamp_(min=image_min, max=image_max)\n",
    "    image.add_(-image_min).div_(image_max - image_min + 1e-5)\n",
    "    return image"
   ]
  },
  {
   "cell_type": "markdown",
   "metadata": {
    "colab_type": "text",
    "id": "BL_2X7ZF-0yl"
   },
   "source": [
    "The final bit of the data processing is creating the iterators.\n",
    "\n",
    "We use a much larger batch size here than in previous models. Generally, when using a GPU, a larger batch size means our model trains faster. Our model has significantly more parameters and the images it is training on are much larger, than the previous notebook, so will generally take longer."
   ]
  },
  {
   "cell_type": "code",
   "execution_count": 10,
   "metadata": {
    "colab": {},
    "colab_type": "code",
    "id": "o3rhhD0HIaff"
   },
   "outputs": [],
   "source": [
    "BATCH_SIZE = 512\n",
    "\n",
    "train_iterator = data.DataLoader(train_data,\n",
    "                                 shuffle=True,\n",
    "                                 batch_size=BATCH_SIZE)\n",
    "\n",
    "valid_iterator = data.DataLoader(valid_data,\n",
    "                                 batch_size=BATCH_SIZE)\n",
    "\n",
    "test_iterator = data.DataLoader(test_data,\n",
    "                                batch_size=BATCH_SIZE)"
   ]
  },
  {
   "cell_type": "markdown",
   "metadata": {
    "colab_type": "text",
    "id": "98q8mpRN-0yp"
   },
   "source": [
    "## Defining the Model\n",
    "\n",
    "Next up is defining the model.\n",
    "\n",
    "The actual model itself is no more difficult to understand than the previous model, LeNet. It is made up of convolutional layers, pooling layers and ReLU activation functions. See the previous notebook for a refresher on these concepts. \n",
    "\n",
    "There are only two new concepts introduced here, `nn.Sequential` and `nn.Dropout`.\n",
    "\n",
    "We can think of `Sequential` as like our transforms introduced earlier for data augmentation. We provide `Sequential` with multiple layers and when the `Sequential` module is called it will apply each layer, in order, to the input. There is no difference between using a `Sequential` and having each module defined in the `__init__` and then called in `forward` - however it makes the code significantly shorter.\n",
    "\n",
    "We have one `Sequential` model, `features`, for all the convolutional and pooling layers, then we flatten then data and pass it to the `classifier`, another `Sequential` model which is made up of linear layers and the second new concept, *dropout*.\n",
    "\n",
    "Dropout is a form of [*regularization*](https://en.wikipedia.org/wiki/Regularization_(mathematics)). As our models get larger, to perform more accurately on richer datasets, they start having a significantly higher number of parameters. The problem with lots of parameters is that our models begin to *overfit*. That is, they do not learn general image features whilst learning to classify images but instead simply memorize images within the training set. This is bad as it will cause our model to achieve poor performance on the validation/testing set. To solve this overfitting problem, we use regularization. Dropout is just one method of regularization, other common ones are *L1 regularization*, *L2 regularization* and *weight decay*.\n",
    "\n",
    "Dropout works by randomly setting a certain fraction, 0.5 here, of the neurons in a layer to zero. This effectively adds noise to the training of the neural network and causes neurons to learn with \"less\" data as they are only getting half of the information from a previous layer with dropout applied. It can also be thought of as causing your model to learn multiple smaller models with less parameters. \n",
    "\n",
    "Dropout is only applied when the model is training. It needs to be \"turned off\" when validating, testing or using the model for inference.\n",
    "\n",
    "As mentioned in the previous notebook, during the convolutional and pooling layers the activation function should be placed **after** the pooling layer to reduce computational cost.\n",
    "\n",
    "In the linear layers, dropout should be applied **after** the activation function. Although when using ReLU activation functions the same result is achieved if dropout is before or after, see [here](https://sebastianraschka.com/faq/docs/dropout-activation.html).\n",
    "\n",
    "One last thing to mention is that the very first convolutional layer has an `in_channel` of three. That is because we are handling color images that have three channels (red, green and blue) instead of the single channel grayscale images from the MNIST dataset. This doesn't change the way any of the convolutional filter works, it just means the first filter has a depth of three instead of a depth of one.\n",
    "\n",
    "Next up, we'll initialize the parameters of our model.\n",
    "\n",
    "PyTorch's default initialization is usually fine however by manually trying different initialization schemes we can usually squeeze out a slight performance improvement.\n",
    "\n",
    "We initialize parameters in PyTorch by creating a function that takes in a PyTorch module, checking what type of module it is, and then using the `nn.init` methods to actually initialize the parameters.\n",
    "\n",
    "For our convolutional layers, we'll initialize the weights from a Normal distribution with a standard deviation given by:\n",
    "\n",
    "$$\\frac{\\text{gain}}{\\sqrt{\\text{fan mode}}}$$\n",
    "\n",
    "The value of $\\text{gain}$ depends on the non-linearity we will be using after the convolutional layer and we simply tell the initialization function that we are using ReLU which sets the gain to $\\sqrt{2}$. The fan mode can be either `fan_in` or `fan_out`. `fan_in` is the number of connections coming into the layer and `fan_out` is the number of connections going out of the layer. For the first convolutional layer the input is from 3x3x3 filter, so the `fan_in` is 27 and the output is 64x3x3,  so the `fan_out` is 576. We leave it to the default `fan_in` mode. This initialization scheme is called *Kaiming Normal*, also known as *He Normal*. See the [paper](https://arxiv.org/abs/1502.01852) to learn more about how it was devised.\n",
    "\n",
    "For the linear layers we initialize with a Normal distribution but this time the standard deviation is given by:\n",
    "\n",
    "$$\\text{gain} \\times \\sqrt{\\frac{2}{\\text{fan_in} + \\text{fan_out}}}$$\n",
    "\n",
    "Confusingly, instead of just telling the initialization function which non-linearity we want to use and have it calculate the gain for us, we have to tell it what gain we want to use. Luckily, `nn.init` has a `calculate_gain` function which does that for us, and we just tell it we are using ReLUs. This type of initialize scheme is called *Xavier Normal*, also known as *Glorot Normal*. See the [paper](http://proceedings.mlr.press/v9/glorot10a/glorot10a.pdf) for the theory behind it. \n",
    "\n",
    "For both types of layer we initialize the bias terms to zeros.\n",
    "\n",
    "Why do we even need to initialize our parameters this way? See [this](https://towardsdatascience.com/weight-initialization-in-neural-networks-a-journey-from-the-basics-to-kaiming-954fb9b47c79) article for a great explanation, but the gist of it is that just like how we normalized our input data to have a mean of 0 and a standard deviation of 1, we also want the outputs of each activation function (and therefore the inputs to the subsequent layer) to also have a mean of 0 and a standard deviation of 1. These initialization schemes, by taking account the number of connections in to and out of a layer as well as the non-linearity used, help achieve this normalization effect when initializing weights."
   ]
  },
  {
   "cell_type": "code",
   "execution_count": 11,
   "metadata": {},
   "outputs": [],
   "source": [
    "class ConvBlock(nn.Module):\n",
    "    \n",
    "    def __init__(self, in_channels, out_channels, kernel_size, stride, padding):\n",
    "        super(ConvBlock, self).__init__()\n",
    "        \n",
    "        self.conv = nn.Conv2d(in_channels, out_channels, kernel_size, stride, padding)\n",
    "        self.bn = nn.BatchNorm2d(out_channels)\n",
    "        self.act = nn.ReLU()\n",
    "        \n",
    "    def forward(self, x):\n",
    "        x = self.conv(x)\n",
    "        x = self.bn(x)\n",
    "        x = self.act(x)\n",
    "        return x\n",
    "\n",
    "\n",
    "class InceptionF5(nn.Module):\n",
    "    \"\"\"\n",
    "        From the paper, figure 5 inception module.\n",
    "    \"\"\"\n",
    "    def __init__(self, in_channels):\n",
    "        super(InceptionF5, self).__init__()\n",
    "        \n",
    "        self.branch1 = nn.Sequential(\n",
    "            ConvBlock(in_channels, 64, kernel_size=1, stride=1, padding=0),\n",
    "            ConvBlock(64, 96, kernel_size=3, stride=1, padding=1),\n",
    "            ConvBlock(96, 96, kernel_size=3, stride=1, padding=1)\n",
    "        )\n",
    "        \n",
    "        self.branch2 = nn.Sequential(\n",
    "            ConvBlock(in_channels, 48, kernel_size=1, stride=1, padding=0),\n",
    "            ConvBlock(48, 64, kernel_size=3, stride=1, padding=1)\n",
    "        )\n",
    "        \n",
    "        self.branch3 = nn.Sequential(\n",
    "            nn.MaxPool2d(3, stride=1, padding=1),\n",
    "            ConvBlock(in_channels, 64, kernel_size=1, stride=1, padding=0)\n",
    "        )\n",
    "        \n",
    "        self.branch4 = nn.Sequential(\n",
    "            ConvBlock(in_channels, 64, kernel_size=1, stride=1, padding=0)\n",
    "        )\n",
    "        \n",
    "    def forward(self, x):\n",
    "        branch1 = self.branch1(x)\n",
    "        branch2 = self.branch2(x)\n",
    "        branch3 = self.branch3(x)\n",
    "        branch4 = self.branch4(x)\n",
    "        \n",
    "        return torch.cat([branch1, branch2, branch3, branch4], 1)\n",
    "\n",
    "\n",
    "class InceptionF6(nn.Module):\n",
    "    \"\"\"\n",
    "        From the paper, figure 6 inception module.\n",
    "    \"\"\"\n",
    "    def __init__(self, in_channels, f_7x7):\n",
    "        super(InceptionF6, self).__init__()\n",
    "        \n",
    "        self.branch1 = nn.Sequential(\n",
    "            ConvBlock(in_channels, f_7x7, kernel_size=1, stride=1, padding=0),\n",
    "            ConvBlock(f_7x7, f_7x7, kernel_size=(1,7), stride=1, padding=(0,3)),\n",
    "            ConvBlock(f_7x7, f_7x7, kernel_size=(7,1), stride=1, padding=(3,0)),\n",
    "            ConvBlock(f_7x7, f_7x7, kernel_size=(1,7), stride=1, padding=(0,3)),\n",
    "            ConvBlock(f_7x7, 192, kernel_size=(7,1), stride=1, padding=(3,0))\n",
    "        )\n",
    "        \n",
    "        self.branch2 = nn.Sequential(\n",
    "            ConvBlock(in_channels, f_7x7, kernel_size=1, stride=1, padding=0),\n",
    "            ConvBlock(f_7x7, f_7x7, kernel_size=(1,7), stride=1, padding=(0,3)),\n",
    "            ConvBlock(f_7x7, 192, kernel_size=(7,1), stride=1, padding=(3,0))\n",
    "        )\n",
    "        \n",
    "        self.branch3 = nn.Sequential(\n",
    "            nn.MaxPool2d(3, stride=1, padding=1),\n",
    "            ConvBlock(in_channels, 192, kernel_size=1, stride=1, padding=0)\n",
    "        )\n",
    "        \n",
    "        self.branch4 = nn.Sequential(\n",
    "            ConvBlock(in_channels, 192, kernel_size=1, stride=1, padding=0)\n",
    "        )\n",
    "        \n",
    "    def forward(self, x):\n",
    "        branch1 = self.branch1(x)\n",
    "        branch2 = self.branch2(x)\n",
    "        branch3 = self.branch3(x)\n",
    "        branch4 = self.branch4(x)\n",
    "        \n",
    "        return torch.cat([branch1, branch2, branch3, branch4], 1)\n",
    "\n",
    "\n",
    "class InceptionF7(nn.Module):\n",
    "    \"\"\"\n",
    "        From the paper, figure 7 inception module.\n",
    "    \"\"\"\n",
    "    def __init__(self, in_channels):\n",
    "        super(InceptionF7, self).__init__()\n",
    "        \n",
    "        self.branch1 = nn.Sequential(\n",
    "            ConvBlock(in_channels, 448, kernel_size=1, stride=1, padding=0),\n",
    "            ConvBlock(448, 384, kernel_size=(3,3), stride=1, padding=1)\n",
    "        )\n",
    "        self.branch1_top = ConvBlock(384, 384, kernel_size=(1,3), stride=1, padding=(0,1))\n",
    "        self.branch1_bot = ConvBlock(384, 384, kernel_size=(3,1), stride=1, padding=(1,0))\n",
    "        \n",
    "        \n",
    "        self.branch2 = ConvBlock(in_channels, 384, kernel_size=1, stride=1, padding=0)\n",
    "        self.branch2_top = ConvBlock(384, 384, kernel_size=(1,3), stride=1, padding=(0,1))\n",
    "        self.branch2_bot = ConvBlock(384, 384, kernel_size=(3,1), stride=1, padding=(1,0))\n",
    "        \n",
    "        self.branch3 = nn.Sequential(\n",
    "            nn.MaxPool2d(3, stride=1, padding=1),\n",
    "            ConvBlock(in_channels, 192, kernel_size=1, stride=1, padding=0)\n",
    "        )\n",
    "        \n",
    "        self.branch4 = nn.Sequential(\n",
    "            ConvBlock(in_channels, 320, kernel_size=1, stride=1, padding=0)\n",
    "        )\n",
    "        \n",
    "    def forward(self, x):\n",
    "        branch1 = self.branch1(x)\n",
    "        branch1 = torch.cat([self.branch1_top(branch1), self.branch1_bot(branch1)], 1)\n",
    "        \n",
    "        branch2 = self.branch2(x)\n",
    "        branch2 = torch.cat([self.branch2_top(branch2), self.branch2_bot(branch2)], 1)\n",
    "        \n",
    "        branch3 = self.branch3(x)\n",
    "        branch4 = self.branch4(x)\n",
    "        \n",
    "        return torch.cat([branch1, branch2, branch3, branch4], 1)\n",
    "\n",
    "\n",
    "class InceptionRed(nn.Module):\n",
    "    \"\"\"\n",
    "        From the paper, figure 10 improved pooling operation.\n",
    "    \"\"\"\n",
    "    def __init__(self, in_channels, f_3x3_r, add_ch=0):\n",
    "        super(InceptionRed, self).__init__()\n",
    "        \n",
    "        self.branch1 = nn.Sequential(\n",
    "            ConvBlock(in_channels, f_3x3_r, kernel_size=1, stride=1, padding=0),\n",
    "            ConvBlock(f_3x3_r, 178 + add_ch, kernel_size=3, stride=1, padding=1),\n",
    "            ConvBlock(178 + add_ch, 178 + add_ch, kernel_size=3, stride=2, padding=0)\n",
    "        )\n",
    "        \n",
    "        self.branch2 = nn.Sequential(\n",
    "            ConvBlock(in_channels, f_3x3_r, kernel_size=1, stride=1, padding=0),\n",
    "            ConvBlock(f_3x3_r, 302 + add_ch, kernel_size=3, stride=2, padding=0)\n",
    "        )\n",
    "        \n",
    "        self.branch3 = nn.Sequential(\n",
    "            nn.MaxPool2d(3, stride=2, padding=0)\n",
    "        )\n",
    "        \n",
    "    def forward(self, x):\n",
    "        branch1 = self.branch1(x)\n",
    "        branch2 = self.branch2(x)\n",
    "        branch3 = self.branch3(x)\n",
    "        \n",
    "        return torch.cat([branch1, branch2, branch3], 1)\n",
    "\n",
    "\n",
    "class InceptionAux(nn.Module):\n",
    "    \"\"\"\n",
    "        From the paper, auxilary classifier\n",
    "    \"\"\"\n",
    "    def __init__(self, in_channels, num_classes):\n",
    "        super(InceptionAux, self).__init__()\n",
    "        \n",
    "        self.pool = nn.AdaptiveAvgPool2d((4,4))\n",
    "        self.conv = nn.Conv2d(in_channels, 128, kernel_size=1, stride=1, padding=0)\n",
    "        self.act = nn.ReLU()\n",
    "        self.fc1 = nn.Linear(2048, 1024)\n",
    "        self.dropout = nn.Dropout(0.7)\n",
    "        self.fc2 = nn.Linear(1024, num_classes)\n",
    "    \n",
    "    def forward(self, x):\n",
    "        x = self.pool(x)\n",
    "        \n",
    "        x = self.conv(x)\n",
    "        x = self.act(x)\n",
    "    \n",
    "        x = torch.flatten(x, 1)\n",
    "        \n",
    "        x = self.fc1(x)\n",
    "        x = self.act(x)\n",
    "        x = self.dropout(x)\n",
    "        \n",
    "        x = self.fc2(x)\n",
    "        \n",
    "        return x"
   ]
  },
  {
   "cell_type": "code",
   "execution_count": 12,
   "metadata": {},
   "outputs": [],
   "source": [
    "class inception_v2(nn.Module):\n",
    "    \n",
    "    def __init__(self, num_classes = 10):\n",
    "        super(inception_v2, self).__init__()\n",
    "        \n",
    "        self.conv1 = ConvBlock(3, 32, kernel_size=3, stride=1, padding=1)\n",
    "        self.conv2 = ConvBlock(32, 32, kernel_size=3, stride=1, padding=0)\n",
    "        self.conv3 = ConvBlock(32, 64, kernel_size=3, stride=1, padding=1)\n",
    "        self.pool1 = nn.MaxPool2d(3, stride=2, padding=0)\n",
    "        self.conv4 = ConvBlock(64, 80, kernel_size=3, stride=1, padding=0)\n",
    "        self.conv5 = ConvBlock(80, 192, kernel_size=3, stride=1, padding=1)\n",
    "        self.conv6 = ConvBlock(192, 288, kernel_size=3, stride=1, padding=1)\n",
    "        \n",
    "        self.inception3a = InceptionF5(288)\n",
    "        self.inception3b = InceptionF5(288)\n",
    "        self.inception3c = InceptionF5(288)\n",
    "        \n",
    "        self.inceptionRed1 = InceptionRed(288,f_3x3_r=64, add_ch=0)\n",
    "        \n",
    "        self.inception4a = InceptionF6(768, f_7x7=128)\n",
    "        self.inception4b = InceptionF6(768, f_7x7=160)\n",
    "        self.inception4c = InceptionF6(768, f_7x7=160)\n",
    "        self.inception4d = InceptionF6(768, f_7x7=160)\n",
    "        self.inception4e = InceptionF6(768, f_7x7=192)\n",
    "        \n",
    "        self.inceptionRed2 = InceptionRed(768,f_3x3_r=192, add_ch=16)\n",
    "        \n",
    "        self.aux = InceptionAux(768, num_classes) \n",
    "        \n",
    "        self.inception5a = InceptionF7(1280)\n",
    "        self.inception5b = InceptionF7(2048)\n",
    "        \n",
    "        self.pool6 = nn.AdaptiveAvgPool2d((1,1))\n",
    "        self.dropout = nn.Dropout(0.4)\n",
    "        self.fc = nn.Linear(2048, num_classes)\n",
    "    \n",
    "        # Official init from torch repo.\n",
    "        for m in self.modules():\n",
    "            if isinstance(m, nn.Conv2d):\n",
    "                nn.init.kaiming_normal_(m.weight)\n",
    "            elif isinstance(m, nn.BatchNorm2d):\n",
    "                nn.init.constant_(m.weight, 1)\n",
    "                nn.init.constant_(m.bias, 0)\n",
    "            elif isinstance(m, nn.Linear):\n",
    "                nn.init.constant_(m.bias, 0)\n",
    "\n",
    "    def forward(self, x):\n",
    "        x = self.conv1(x)\n",
    "        x = self.conv2(x)\n",
    "        x = self.conv3(x)\n",
    "        x = self.pool1(x)\n",
    "        x = self.conv4(x)\n",
    "        x = self.conv5(x)\n",
    "        x = self.conv6(x)\n",
    "        \n",
    "        x = self.inception3a(x)\n",
    "        x = self.inception3b(x)\n",
    "        x = self.inception3c(x)\n",
    "\n",
    "        x = self.inceptionRed1(x)\n",
    "        \n",
    "        x = self.inception4a(x)\n",
    "        x = self.inception4b(x)\n",
    "        x = self.inception4c(x)\n",
    "        x = self.inception4d(x)\n",
    "        x = self.inception4e(x)\n",
    "        \n",
    "        aux = self.aux(x)\n",
    "        \n",
    "        x = self.inceptionRed2(x)    \n",
    "        x = self.inception5a(x)\n",
    "        x = self.inception5b(x)\n",
    "        \n",
    "        x = self.pool6(x)\n",
    "        x = self.dropout(x)\n",
    "        x = torch.flatten(x, 1)\n",
    "        x = self.fc(x)\n",
    "        \n",
    "        return x, aux"
   ]
  },
  {
   "cell_type": "markdown",
   "metadata": {
    "colab_type": "text",
    "id": "IBMS4TH4XVow"
   },
   "source": [
    "We'll create an instance of our model with the desired amount of classes."
   ]
  },
  {
   "cell_type": "code",
   "execution_count": 13,
   "metadata": {
    "colab": {},
    "colab_type": "code",
    "id": "y-sDcYnBIafp"
   },
   "outputs": [
    {
     "name": "stdout",
     "output_type": "stream",
     "text": [
      "inception_v2(\n",
      "  (conv1): ConvBlock(\n",
      "    (conv): Conv2d(3, 32, kernel_size=(3, 3), stride=(1, 1), padding=(1, 1))\n",
      "    (bn): BatchNorm2d(32, eps=1e-05, momentum=0.1, affine=True, track_running_stats=True)\n",
      "    (act): ReLU()\n",
      "  )\n",
      "  (conv2): ConvBlock(\n",
      "    (conv): Conv2d(32, 32, kernel_size=(3, 3), stride=(1, 1))\n",
      "    (bn): BatchNorm2d(32, eps=1e-05, momentum=0.1, affine=True, track_running_stats=True)\n",
      "    (act): ReLU()\n",
      "  )\n",
      "  (conv3): ConvBlock(\n",
      "    (conv): Conv2d(32, 64, kernel_size=(3, 3), stride=(1, 1), padding=(1, 1))\n",
      "    (bn): BatchNorm2d(64, eps=1e-05, momentum=0.1, affine=True, track_running_stats=True)\n",
      "    (act): ReLU()\n",
      "  )\n",
      "  (pool1): MaxPool2d(kernel_size=3, stride=2, padding=0, dilation=1, ceil_mode=False)\n",
      "  (conv4): ConvBlock(\n",
      "    (conv): Conv2d(64, 80, kernel_size=(3, 3), stride=(1, 1))\n",
      "    (bn): BatchNorm2d(80, eps=1e-05, momentum=0.1, affine=True, track_running_stats=True)\n",
      "    (act): ReLU()\n",
      "  )\n",
      "  (conv5): ConvBlock(\n",
      "    (conv): Conv2d(80, 192, kernel_size=(3, 3), stride=(1, 1), padding=(1, 1))\n",
      "    (bn): BatchNorm2d(192, eps=1e-05, momentum=0.1, affine=True, track_running_stats=True)\n",
      "    (act): ReLU()\n",
      "  )\n",
      "  (conv6): ConvBlock(\n",
      "    (conv): Conv2d(192, 288, kernel_size=(3, 3), stride=(1, 1), padding=(1, 1))\n",
      "    (bn): BatchNorm2d(288, eps=1e-05, momentum=0.1, affine=True, track_running_stats=True)\n",
      "    (act): ReLU()\n",
      "  )\n",
      "  (inception3a): InceptionF5(\n",
      "    (branch1): Sequential(\n",
      "      (0): ConvBlock(\n",
      "        (conv): Conv2d(288, 64, kernel_size=(1, 1), stride=(1, 1))\n",
      "        (bn): BatchNorm2d(64, eps=1e-05, momentum=0.1, affine=True, track_running_stats=True)\n",
      "        (act): ReLU()\n",
      "      )\n",
      "      (1): ConvBlock(\n",
      "        (conv): Conv2d(64, 96, kernel_size=(3, 3), stride=(1, 1), padding=(1, 1))\n",
      "        (bn): BatchNorm2d(96, eps=1e-05, momentum=0.1, affine=True, track_running_stats=True)\n",
      "        (act): ReLU()\n",
      "      )\n",
      "      (2): ConvBlock(\n",
      "        (conv): Conv2d(96, 96, kernel_size=(3, 3), stride=(1, 1), padding=(1, 1))\n",
      "        (bn): BatchNorm2d(96, eps=1e-05, momentum=0.1, affine=True, track_running_stats=True)\n",
      "        (act): ReLU()\n",
      "      )\n",
      "    )\n",
      "    (branch2): Sequential(\n",
      "      (0): ConvBlock(\n",
      "        (conv): Conv2d(288, 48, kernel_size=(1, 1), stride=(1, 1))\n",
      "        (bn): BatchNorm2d(48, eps=1e-05, momentum=0.1, affine=True, track_running_stats=True)\n",
      "        (act): ReLU()\n",
      "      )\n",
      "      (1): ConvBlock(\n",
      "        (conv): Conv2d(48, 64, kernel_size=(3, 3), stride=(1, 1), padding=(1, 1))\n",
      "        (bn): BatchNorm2d(64, eps=1e-05, momentum=0.1, affine=True, track_running_stats=True)\n",
      "        (act): ReLU()\n",
      "      )\n",
      "    )\n",
      "    (branch3): Sequential(\n",
      "      (0): MaxPool2d(kernel_size=3, stride=1, padding=1, dilation=1, ceil_mode=False)\n",
      "      (1): ConvBlock(\n",
      "        (conv): Conv2d(288, 64, kernel_size=(1, 1), stride=(1, 1))\n",
      "        (bn): BatchNorm2d(64, eps=1e-05, momentum=0.1, affine=True, track_running_stats=True)\n",
      "        (act): ReLU()\n",
      "      )\n",
      "    )\n",
      "    (branch4): Sequential(\n",
      "      (0): ConvBlock(\n",
      "        (conv): Conv2d(288, 64, kernel_size=(1, 1), stride=(1, 1))\n",
      "        (bn): BatchNorm2d(64, eps=1e-05, momentum=0.1, affine=True, track_running_stats=True)\n",
      "        (act): ReLU()\n",
      "      )\n",
      "    )\n",
      "  )\n",
      "  (inception3b): InceptionF5(\n",
      "    (branch1): Sequential(\n",
      "      (0): ConvBlock(\n",
      "        (conv): Conv2d(288, 64, kernel_size=(1, 1), stride=(1, 1))\n",
      "        (bn): BatchNorm2d(64, eps=1e-05, momentum=0.1, affine=True, track_running_stats=True)\n",
      "        (act): ReLU()\n",
      "      )\n",
      "      (1): ConvBlock(\n",
      "        (conv): Conv2d(64, 96, kernel_size=(3, 3), stride=(1, 1), padding=(1, 1))\n",
      "        (bn): BatchNorm2d(96, eps=1e-05, momentum=0.1, affine=True, track_running_stats=True)\n",
      "        (act): ReLU()\n",
      "      )\n",
      "      (2): ConvBlock(\n",
      "        (conv): Conv2d(96, 96, kernel_size=(3, 3), stride=(1, 1), padding=(1, 1))\n",
      "        (bn): BatchNorm2d(96, eps=1e-05, momentum=0.1, affine=True, track_running_stats=True)\n",
      "        (act): ReLU()\n",
      "      )\n",
      "    )\n",
      "    (branch2): Sequential(\n",
      "      (0): ConvBlock(\n",
      "        (conv): Conv2d(288, 48, kernel_size=(1, 1), stride=(1, 1))\n",
      "        (bn): BatchNorm2d(48, eps=1e-05, momentum=0.1, affine=True, track_running_stats=True)\n",
      "        (act): ReLU()\n",
      "      )\n",
      "      (1): ConvBlock(\n",
      "        (conv): Conv2d(48, 64, kernel_size=(3, 3), stride=(1, 1), padding=(1, 1))\n",
      "        (bn): BatchNorm2d(64, eps=1e-05, momentum=0.1, affine=True, track_running_stats=True)\n",
      "        (act): ReLU()\n",
      "      )\n",
      "    )\n",
      "    (branch3): Sequential(\n",
      "      (0): MaxPool2d(kernel_size=3, stride=1, padding=1, dilation=1, ceil_mode=False)\n",
      "      (1): ConvBlock(\n",
      "        (conv): Conv2d(288, 64, kernel_size=(1, 1), stride=(1, 1))\n",
      "        (bn): BatchNorm2d(64, eps=1e-05, momentum=0.1, affine=True, track_running_stats=True)\n",
      "        (act): ReLU()\n",
      "      )\n",
      "    )\n",
      "    (branch4): Sequential(\n",
      "      (0): ConvBlock(\n",
      "        (conv): Conv2d(288, 64, kernel_size=(1, 1), stride=(1, 1))\n",
      "        (bn): BatchNorm2d(64, eps=1e-05, momentum=0.1, affine=True, track_running_stats=True)\n",
      "        (act): ReLU()\n",
      "      )\n",
      "    )\n",
      "  )\n",
      "  (inception3c): InceptionF5(\n",
      "    (branch1): Sequential(\n",
      "      (0): ConvBlock(\n",
      "        (conv): Conv2d(288, 64, kernel_size=(1, 1), stride=(1, 1))\n",
      "        (bn): BatchNorm2d(64, eps=1e-05, momentum=0.1, affine=True, track_running_stats=True)\n",
      "        (act): ReLU()\n",
      "      )\n",
      "      (1): ConvBlock(\n",
      "        (conv): Conv2d(64, 96, kernel_size=(3, 3), stride=(1, 1), padding=(1, 1))\n",
      "        (bn): BatchNorm2d(96, eps=1e-05, momentum=0.1, affine=True, track_running_stats=True)\n",
      "        (act): ReLU()\n",
      "      )\n",
      "      (2): ConvBlock(\n",
      "        (conv): Conv2d(96, 96, kernel_size=(3, 3), stride=(1, 1), padding=(1, 1))\n",
      "        (bn): BatchNorm2d(96, eps=1e-05, momentum=0.1, affine=True, track_running_stats=True)\n",
      "        (act): ReLU()\n",
      "      )\n",
      "    )\n",
      "    (branch2): Sequential(\n",
      "      (0): ConvBlock(\n",
      "        (conv): Conv2d(288, 48, kernel_size=(1, 1), stride=(1, 1))\n",
      "        (bn): BatchNorm2d(48, eps=1e-05, momentum=0.1, affine=True, track_running_stats=True)\n",
      "        (act): ReLU()\n",
      "      )\n",
      "      (1): ConvBlock(\n",
      "        (conv): Conv2d(48, 64, kernel_size=(3, 3), stride=(1, 1), padding=(1, 1))\n",
      "        (bn): BatchNorm2d(64, eps=1e-05, momentum=0.1, affine=True, track_running_stats=True)\n",
      "        (act): ReLU()\n",
      "      )\n",
      "    )\n",
      "    (branch3): Sequential(\n",
      "      (0): MaxPool2d(kernel_size=3, stride=1, padding=1, dilation=1, ceil_mode=False)\n",
      "      (1): ConvBlock(\n",
      "        (conv): Conv2d(288, 64, kernel_size=(1, 1), stride=(1, 1))\n",
      "        (bn): BatchNorm2d(64, eps=1e-05, momentum=0.1, affine=True, track_running_stats=True)\n",
      "        (act): ReLU()\n",
      "      )\n",
      "    )\n",
      "    (branch4): Sequential(\n",
      "      (0): ConvBlock(\n",
      "        (conv): Conv2d(288, 64, kernel_size=(1, 1), stride=(1, 1))\n",
      "        (bn): BatchNorm2d(64, eps=1e-05, momentum=0.1, affine=True, track_running_stats=True)\n",
      "        (act): ReLU()\n",
      "      )\n",
      "    )\n",
      "  )\n",
      "  (inceptionRed1): InceptionRed(\n",
      "    (branch1): Sequential(\n",
      "      (0): ConvBlock(\n",
      "        (conv): Conv2d(288, 64, kernel_size=(1, 1), stride=(1, 1))\n",
      "        (bn): BatchNorm2d(64, eps=1e-05, momentum=0.1, affine=True, track_running_stats=True)\n",
      "        (act): ReLU()\n",
      "      )\n",
      "      (1): ConvBlock(\n",
      "        (conv): Conv2d(64, 178, kernel_size=(3, 3), stride=(1, 1), padding=(1, 1))\n",
      "        (bn): BatchNorm2d(178, eps=1e-05, momentum=0.1, affine=True, track_running_stats=True)\n",
      "        (act): ReLU()\n",
      "      )\n",
      "      (2): ConvBlock(\n",
      "        (conv): Conv2d(178, 178, kernel_size=(3, 3), stride=(2, 2))\n",
      "        (bn): BatchNorm2d(178, eps=1e-05, momentum=0.1, affine=True, track_running_stats=True)\n",
      "        (act): ReLU()\n",
      "      )\n",
      "    )\n",
      "    (branch2): Sequential(\n",
      "      (0): ConvBlock(\n",
      "        (conv): Conv2d(288, 64, kernel_size=(1, 1), stride=(1, 1))\n",
      "        (bn): BatchNorm2d(64, eps=1e-05, momentum=0.1, affine=True, track_running_stats=True)\n",
      "        (act): ReLU()\n",
      "      )\n",
      "      (1): ConvBlock(\n",
      "        (conv): Conv2d(64, 302, kernel_size=(3, 3), stride=(2, 2))\n",
      "        (bn): BatchNorm2d(302, eps=1e-05, momentum=0.1, affine=True, track_running_stats=True)\n",
      "        (act): ReLU()\n",
      "      )\n",
      "    )\n",
      "    (branch3): Sequential(\n",
      "      (0): MaxPool2d(kernel_size=3, stride=2, padding=0, dilation=1, ceil_mode=False)\n",
      "    )\n",
      "  )\n",
      "  (inception4a): InceptionF6(\n",
      "    (branch1): Sequential(\n",
      "      (0): ConvBlock(\n",
      "        (conv): Conv2d(768, 128, kernel_size=(1, 1), stride=(1, 1))\n",
      "        (bn): BatchNorm2d(128, eps=1e-05, momentum=0.1, affine=True, track_running_stats=True)\n",
      "        (act): ReLU()\n",
      "      )\n",
      "      (1): ConvBlock(\n",
      "        (conv): Conv2d(128, 128, kernel_size=(1, 7), stride=(1, 1), padding=(0, 3))\n",
      "        (bn): BatchNorm2d(128, eps=1e-05, momentum=0.1, affine=True, track_running_stats=True)\n",
      "        (act): ReLU()\n",
      "      )\n",
      "      (2): ConvBlock(\n",
      "        (conv): Conv2d(128, 128, kernel_size=(7, 1), stride=(1, 1), padding=(3, 0))\n",
      "        (bn): BatchNorm2d(128, eps=1e-05, momentum=0.1, affine=True, track_running_stats=True)\n",
      "        (act): ReLU()\n",
      "      )\n",
      "      (3): ConvBlock(\n",
      "        (conv): Conv2d(128, 128, kernel_size=(1, 7), stride=(1, 1), padding=(0, 3))\n",
      "        (bn): BatchNorm2d(128, eps=1e-05, momentum=0.1, affine=True, track_running_stats=True)\n",
      "        (act): ReLU()\n",
      "      )\n",
      "      (4): ConvBlock(\n",
      "        (conv): Conv2d(128, 192, kernel_size=(7, 1), stride=(1, 1), padding=(3, 0))\n",
      "        (bn): BatchNorm2d(192, eps=1e-05, momentum=0.1, affine=True, track_running_stats=True)\n",
      "        (act): ReLU()\n",
      "      )\n",
      "    )\n",
      "    (branch2): Sequential(\n",
      "      (0): ConvBlock(\n",
      "        (conv): Conv2d(768, 128, kernel_size=(1, 1), stride=(1, 1))\n",
      "        (bn): BatchNorm2d(128, eps=1e-05, momentum=0.1, affine=True, track_running_stats=True)\n",
      "        (act): ReLU()\n",
      "      )\n",
      "      (1): ConvBlock(\n",
      "        (conv): Conv2d(128, 128, kernel_size=(1, 7), stride=(1, 1), padding=(0, 3))\n",
      "        (bn): BatchNorm2d(128, eps=1e-05, momentum=0.1, affine=True, track_running_stats=True)\n",
      "        (act): ReLU()\n",
      "      )\n",
      "      (2): ConvBlock(\n",
      "        (conv): Conv2d(128, 192, kernel_size=(7, 1), stride=(1, 1), padding=(3, 0))\n",
      "        (bn): BatchNorm2d(192, eps=1e-05, momentum=0.1, affine=True, track_running_stats=True)\n",
      "        (act): ReLU()\n",
      "      )\n",
      "    )\n",
      "    (branch3): Sequential(\n",
      "      (0): MaxPool2d(kernel_size=3, stride=1, padding=1, dilation=1, ceil_mode=False)\n",
      "      (1): ConvBlock(\n",
      "        (conv): Conv2d(768, 192, kernel_size=(1, 1), stride=(1, 1))\n",
      "        (bn): BatchNorm2d(192, eps=1e-05, momentum=0.1, affine=True, track_running_stats=True)\n",
      "        (act): ReLU()\n",
      "      )\n",
      "    )\n",
      "    (branch4): Sequential(\n",
      "      (0): ConvBlock(\n",
      "        (conv): Conv2d(768, 192, kernel_size=(1, 1), stride=(1, 1))\n",
      "        (bn): BatchNorm2d(192, eps=1e-05, momentum=0.1, affine=True, track_running_stats=True)\n",
      "        (act): ReLU()\n",
      "      )\n",
      "    )\n",
      "  )\n",
      "  (inception4b): InceptionF6(\n",
      "    (branch1): Sequential(\n",
      "      (0): ConvBlock(\n",
      "        (conv): Conv2d(768, 160, kernel_size=(1, 1), stride=(1, 1))\n",
      "        (bn): BatchNorm2d(160, eps=1e-05, momentum=0.1, affine=True, track_running_stats=True)\n",
      "        (act): ReLU()\n",
      "      )\n",
      "      (1): ConvBlock(\n",
      "        (conv): Conv2d(160, 160, kernel_size=(1, 7), stride=(1, 1), padding=(0, 3))\n",
      "        (bn): BatchNorm2d(160, eps=1e-05, momentum=0.1, affine=True, track_running_stats=True)\n",
      "        (act): ReLU()\n",
      "      )\n",
      "      (2): ConvBlock(\n",
      "        (conv): Conv2d(160, 160, kernel_size=(7, 1), stride=(1, 1), padding=(3, 0))\n",
      "        (bn): BatchNorm2d(160, eps=1e-05, momentum=0.1, affine=True, track_running_stats=True)\n",
      "        (act): ReLU()\n",
      "      )\n",
      "      (3): ConvBlock(\n",
      "        (conv): Conv2d(160, 160, kernel_size=(1, 7), stride=(1, 1), padding=(0, 3))\n",
      "        (bn): BatchNorm2d(160, eps=1e-05, momentum=0.1, affine=True, track_running_stats=True)\n",
      "        (act): ReLU()\n",
      "      )\n",
      "      (4): ConvBlock(\n",
      "        (conv): Conv2d(160, 192, kernel_size=(7, 1), stride=(1, 1), padding=(3, 0))\n",
      "        (bn): BatchNorm2d(192, eps=1e-05, momentum=0.1, affine=True, track_running_stats=True)\n",
      "        (act): ReLU()\n",
      "      )\n",
      "    )\n",
      "    (branch2): Sequential(\n",
      "      (0): ConvBlock(\n",
      "        (conv): Conv2d(768, 160, kernel_size=(1, 1), stride=(1, 1))\n",
      "        (bn): BatchNorm2d(160, eps=1e-05, momentum=0.1, affine=True, track_running_stats=True)\n",
      "        (act): ReLU()\n",
      "      )\n",
      "      (1): ConvBlock(\n",
      "        (conv): Conv2d(160, 160, kernel_size=(1, 7), stride=(1, 1), padding=(0, 3))\n",
      "        (bn): BatchNorm2d(160, eps=1e-05, momentum=0.1, affine=True, track_running_stats=True)\n",
      "        (act): ReLU()\n",
      "      )\n",
      "      (2): ConvBlock(\n",
      "        (conv): Conv2d(160, 192, kernel_size=(7, 1), stride=(1, 1), padding=(3, 0))\n",
      "        (bn): BatchNorm2d(192, eps=1e-05, momentum=0.1, affine=True, track_running_stats=True)\n",
      "        (act): ReLU()\n",
      "      )\n",
      "    )\n",
      "    (branch3): Sequential(\n",
      "      (0): MaxPool2d(kernel_size=3, stride=1, padding=1, dilation=1, ceil_mode=False)\n",
      "      (1): ConvBlock(\n",
      "        (conv): Conv2d(768, 192, kernel_size=(1, 1), stride=(1, 1))\n",
      "        (bn): BatchNorm2d(192, eps=1e-05, momentum=0.1, affine=True, track_running_stats=True)\n",
      "        (act): ReLU()\n",
      "      )\n",
      "    )\n",
      "    (branch4): Sequential(\n",
      "      (0): ConvBlock(\n",
      "        (conv): Conv2d(768, 192, kernel_size=(1, 1), stride=(1, 1))\n",
      "        (bn): BatchNorm2d(192, eps=1e-05, momentum=0.1, affine=True, track_running_stats=True)\n",
      "        (act): ReLU()\n",
      "      )\n",
      "    )\n",
      "  )\n",
      "  (inception4c): InceptionF6(\n",
      "    (branch1): Sequential(\n",
      "      (0): ConvBlock(\n",
      "        (conv): Conv2d(768, 160, kernel_size=(1, 1), stride=(1, 1))\n",
      "        (bn): BatchNorm2d(160, eps=1e-05, momentum=0.1, affine=True, track_running_stats=True)\n",
      "        (act): ReLU()\n",
      "      )\n",
      "      (1): ConvBlock(\n",
      "        (conv): Conv2d(160, 160, kernel_size=(1, 7), stride=(1, 1), padding=(0, 3))\n",
      "        (bn): BatchNorm2d(160, eps=1e-05, momentum=0.1, affine=True, track_running_stats=True)\n",
      "        (act): ReLU()\n",
      "      )\n",
      "      (2): ConvBlock(\n",
      "        (conv): Conv2d(160, 160, kernel_size=(7, 1), stride=(1, 1), padding=(3, 0))\n",
      "        (bn): BatchNorm2d(160, eps=1e-05, momentum=0.1, affine=True, track_running_stats=True)\n",
      "        (act): ReLU()\n",
      "      )\n",
      "      (3): ConvBlock(\n",
      "        (conv): Conv2d(160, 160, kernel_size=(1, 7), stride=(1, 1), padding=(0, 3))\n",
      "        (bn): BatchNorm2d(160, eps=1e-05, momentum=0.1, affine=True, track_running_stats=True)\n",
      "        (act): ReLU()\n",
      "      )\n",
      "      (4): ConvBlock(\n",
      "        (conv): Conv2d(160, 192, kernel_size=(7, 1), stride=(1, 1), padding=(3, 0))\n",
      "        (bn): BatchNorm2d(192, eps=1e-05, momentum=0.1, affine=True, track_running_stats=True)\n",
      "        (act): ReLU()\n",
      "      )\n",
      "    )\n",
      "    (branch2): Sequential(\n",
      "      (0): ConvBlock(\n",
      "        (conv): Conv2d(768, 160, kernel_size=(1, 1), stride=(1, 1))\n",
      "        (bn): BatchNorm2d(160, eps=1e-05, momentum=0.1, affine=True, track_running_stats=True)\n",
      "        (act): ReLU()\n",
      "      )\n",
      "      (1): ConvBlock(\n",
      "        (conv): Conv2d(160, 160, kernel_size=(1, 7), stride=(1, 1), padding=(0, 3))\n",
      "        (bn): BatchNorm2d(160, eps=1e-05, momentum=0.1, affine=True, track_running_stats=True)\n",
      "        (act): ReLU()\n",
      "      )\n",
      "      (2): ConvBlock(\n",
      "        (conv): Conv2d(160, 192, kernel_size=(7, 1), stride=(1, 1), padding=(3, 0))\n",
      "        (bn): BatchNorm2d(192, eps=1e-05, momentum=0.1, affine=True, track_running_stats=True)\n",
      "        (act): ReLU()\n",
      "      )\n",
      "    )\n",
      "    (branch3): Sequential(\n",
      "      (0): MaxPool2d(kernel_size=3, stride=1, padding=1, dilation=1, ceil_mode=False)\n",
      "      (1): ConvBlock(\n",
      "        (conv): Conv2d(768, 192, kernel_size=(1, 1), stride=(1, 1))\n",
      "        (bn): BatchNorm2d(192, eps=1e-05, momentum=0.1, affine=True, track_running_stats=True)\n",
      "        (act): ReLU()\n",
      "      )\n",
      "    )\n",
      "    (branch4): Sequential(\n",
      "      (0): ConvBlock(\n",
      "        (conv): Conv2d(768, 192, kernel_size=(1, 1), stride=(1, 1))\n",
      "        (bn): BatchNorm2d(192, eps=1e-05, momentum=0.1, affine=True, track_running_stats=True)\n",
      "        (act): ReLU()\n",
      "      )\n",
      "    )\n",
      "  )\n",
      "  (inception4d): InceptionF6(\n",
      "    (branch1): Sequential(\n",
      "      (0): ConvBlock(\n",
      "        (conv): Conv2d(768, 160, kernel_size=(1, 1), stride=(1, 1))\n",
      "        (bn): BatchNorm2d(160, eps=1e-05, momentum=0.1, affine=True, track_running_stats=True)\n",
      "        (act): ReLU()\n",
      "      )\n",
      "      (1): ConvBlock(\n",
      "        (conv): Conv2d(160, 160, kernel_size=(1, 7), stride=(1, 1), padding=(0, 3))\n",
      "        (bn): BatchNorm2d(160, eps=1e-05, momentum=0.1, affine=True, track_running_stats=True)\n",
      "        (act): ReLU()\n",
      "      )\n",
      "      (2): ConvBlock(\n",
      "        (conv): Conv2d(160, 160, kernel_size=(7, 1), stride=(1, 1), padding=(3, 0))\n",
      "        (bn): BatchNorm2d(160, eps=1e-05, momentum=0.1, affine=True, track_running_stats=True)\n",
      "        (act): ReLU()\n",
      "      )\n",
      "      (3): ConvBlock(\n",
      "        (conv): Conv2d(160, 160, kernel_size=(1, 7), stride=(1, 1), padding=(0, 3))\n",
      "        (bn): BatchNorm2d(160, eps=1e-05, momentum=0.1, affine=True, track_running_stats=True)\n",
      "        (act): ReLU()\n",
      "      )\n",
      "      (4): ConvBlock(\n",
      "        (conv): Conv2d(160, 192, kernel_size=(7, 1), stride=(1, 1), padding=(3, 0))\n",
      "        (bn): BatchNorm2d(192, eps=1e-05, momentum=0.1, affine=True, track_running_stats=True)\n",
      "        (act): ReLU()\n",
      "      )\n",
      "    )\n",
      "    (branch2): Sequential(\n",
      "      (0): ConvBlock(\n",
      "        (conv): Conv2d(768, 160, kernel_size=(1, 1), stride=(1, 1))\n",
      "        (bn): BatchNorm2d(160, eps=1e-05, momentum=0.1, affine=True, track_running_stats=True)\n",
      "        (act): ReLU()\n",
      "      )\n",
      "      (1): ConvBlock(\n",
      "        (conv): Conv2d(160, 160, kernel_size=(1, 7), stride=(1, 1), padding=(0, 3))\n",
      "        (bn): BatchNorm2d(160, eps=1e-05, momentum=0.1, affine=True, track_running_stats=True)\n",
      "        (act): ReLU()\n",
      "      )\n",
      "      (2): ConvBlock(\n",
      "        (conv): Conv2d(160, 192, kernel_size=(7, 1), stride=(1, 1), padding=(3, 0))\n",
      "        (bn): BatchNorm2d(192, eps=1e-05, momentum=0.1, affine=True, track_running_stats=True)\n",
      "        (act): ReLU()\n",
      "      )\n",
      "    )\n",
      "    (branch3): Sequential(\n",
      "      (0): MaxPool2d(kernel_size=3, stride=1, padding=1, dilation=1, ceil_mode=False)\n",
      "      (1): ConvBlock(\n",
      "        (conv): Conv2d(768, 192, kernel_size=(1, 1), stride=(1, 1))\n",
      "        (bn): BatchNorm2d(192, eps=1e-05, momentum=0.1, affine=True, track_running_stats=True)\n",
      "        (act): ReLU()\n",
      "      )\n",
      "    )\n",
      "    (branch4): Sequential(\n",
      "      (0): ConvBlock(\n",
      "        (conv): Conv2d(768, 192, kernel_size=(1, 1), stride=(1, 1))\n",
      "        (bn): BatchNorm2d(192, eps=1e-05, momentum=0.1, affine=True, track_running_stats=True)\n",
      "        (act): ReLU()\n",
      "      )\n",
      "    )\n",
      "  )\n",
      "  (inception4e): InceptionF6(\n",
      "    (branch1): Sequential(\n",
      "      (0): ConvBlock(\n",
      "        (conv): Conv2d(768, 192, kernel_size=(1, 1), stride=(1, 1))\n",
      "        (bn): BatchNorm2d(192, eps=1e-05, momentum=0.1, affine=True, track_running_stats=True)\n",
      "        (act): ReLU()\n",
      "      )\n",
      "      (1): ConvBlock(\n",
      "        (conv): Conv2d(192, 192, kernel_size=(1, 7), stride=(1, 1), padding=(0, 3))\n",
      "        (bn): BatchNorm2d(192, eps=1e-05, momentum=0.1, affine=True, track_running_stats=True)\n",
      "        (act): ReLU()\n",
      "      )\n",
      "      (2): ConvBlock(\n",
      "        (conv): Conv2d(192, 192, kernel_size=(7, 1), stride=(1, 1), padding=(3, 0))\n",
      "        (bn): BatchNorm2d(192, eps=1e-05, momentum=0.1, affine=True, track_running_stats=True)\n",
      "        (act): ReLU()\n",
      "      )\n",
      "      (3): ConvBlock(\n",
      "        (conv): Conv2d(192, 192, kernel_size=(1, 7), stride=(1, 1), padding=(0, 3))\n",
      "        (bn): BatchNorm2d(192, eps=1e-05, momentum=0.1, affine=True, track_running_stats=True)\n",
      "        (act): ReLU()\n",
      "      )\n",
      "      (4): ConvBlock(\n",
      "        (conv): Conv2d(192, 192, kernel_size=(7, 1), stride=(1, 1), padding=(3, 0))\n",
      "        (bn): BatchNorm2d(192, eps=1e-05, momentum=0.1, affine=True, track_running_stats=True)\n",
      "        (act): ReLU()\n",
      "      )\n",
      "    )\n",
      "    (branch2): Sequential(\n",
      "      (0): ConvBlock(\n",
      "        (conv): Conv2d(768, 192, kernel_size=(1, 1), stride=(1, 1))\n",
      "        (bn): BatchNorm2d(192, eps=1e-05, momentum=0.1, affine=True, track_running_stats=True)\n",
      "        (act): ReLU()\n",
      "      )\n",
      "      (1): ConvBlock(\n",
      "        (conv): Conv2d(192, 192, kernel_size=(1, 7), stride=(1, 1), padding=(0, 3))\n",
      "        (bn): BatchNorm2d(192, eps=1e-05, momentum=0.1, affine=True, track_running_stats=True)\n",
      "        (act): ReLU()\n",
      "      )\n",
      "      (2): ConvBlock(\n",
      "        (conv): Conv2d(192, 192, kernel_size=(7, 1), stride=(1, 1), padding=(3, 0))\n",
      "        (bn): BatchNorm2d(192, eps=1e-05, momentum=0.1, affine=True, track_running_stats=True)\n",
      "        (act): ReLU()\n",
      "      )\n",
      "    )\n",
      "    (branch3): Sequential(\n",
      "      (0): MaxPool2d(kernel_size=3, stride=1, padding=1, dilation=1, ceil_mode=False)\n",
      "      (1): ConvBlock(\n",
      "        (conv): Conv2d(768, 192, kernel_size=(1, 1), stride=(1, 1))\n",
      "        (bn): BatchNorm2d(192, eps=1e-05, momentum=0.1, affine=True, track_running_stats=True)\n",
      "        (act): ReLU()\n",
      "      )\n",
      "    )\n",
      "    (branch4): Sequential(\n",
      "      (0): ConvBlock(\n",
      "        (conv): Conv2d(768, 192, kernel_size=(1, 1), stride=(1, 1))\n",
      "        (bn): BatchNorm2d(192, eps=1e-05, momentum=0.1, affine=True, track_running_stats=True)\n",
      "        (act): ReLU()\n",
      "      )\n",
      "    )\n",
      "  )\n",
      "  (inceptionRed2): InceptionRed(\n",
      "    (branch1): Sequential(\n",
      "      (0): ConvBlock(\n",
      "        (conv): Conv2d(768, 192, kernel_size=(1, 1), stride=(1, 1))\n",
      "        (bn): BatchNorm2d(192, eps=1e-05, momentum=0.1, affine=True, track_running_stats=True)\n",
      "        (act): ReLU()\n",
      "      )\n",
      "      (1): ConvBlock(\n",
      "        (conv): Conv2d(192, 194, kernel_size=(3, 3), stride=(1, 1), padding=(1, 1))\n",
      "        (bn): BatchNorm2d(194, eps=1e-05, momentum=0.1, affine=True, track_running_stats=True)\n",
      "        (act): ReLU()\n",
      "      )\n",
      "      (2): ConvBlock(\n",
      "        (conv): Conv2d(194, 194, kernel_size=(3, 3), stride=(2, 2))\n",
      "        (bn): BatchNorm2d(194, eps=1e-05, momentum=0.1, affine=True, track_running_stats=True)\n",
      "        (act): ReLU()\n",
      "      )\n",
      "    )\n",
      "    (branch2): Sequential(\n",
      "      (0): ConvBlock(\n",
      "        (conv): Conv2d(768, 192, kernel_size=(1, 1), stride=(1, 1))\n",
      "        (bn): BatchNorm2d(192, eps=1e-05, momentum=0.1, affine=True, track_running_stats=True)\n",
      "        (act): ReLU()\n",
      "      )\n",
      "      (1): ConvBlock(\n",
      "        (conv): Conv2d(192, 318, kernel_size=(3, 3), stride=(2, 2))\n",
      "        (bn): BatchNorm2d(318, eps=1e-05, momentum=0.1, affine=True, track_running_stats=True)\n",
      "        (act): ReLU()\n",
      "      )\n",
      "    )\n",
      "    (branch3): Sequential(\n",
      "      (0): MaxPool2d(kernel_size=3, stride=2, padding=0, dilation=1, ceil_mode=False)\n",
      "    )\n",
      "  )\n",
      "  (aux): InceptionAux(\n",
      "    (pool): AdaptiveAvgPool2d(output_size=(4, 4))\n",
      "    (conv): Conv2d(768, 128, kernel_size=(1, 1), stride=(1, 1))\n",
      "    (act): ReLU()\n",
      "    (fc1): Linear(in_features=2048, out_features=1024, bias=True)\n",
      "    (dropout): Dropout(p=0.7, inplace=False)\n",
      "    (fc2): Linear(in_features=1024, out_features=10, bias=True)\n",
      "  )\n",
      "  (inception5a): InceptionF7(\n",
      "    (branch1): Sequential(\n",
      "      (0): ConvBlock(\n",
      "        (conv): Conv2d(1280, 448, kernel_size=(1, 1), stride=(1, 1))\n",
      "        (bn): BatchNorm2d(448, eps=1e-05, momentum=0.1, affine=True, track_running_stats=True)\n",
      "        (act): ReLU()\n",
      "      )\n",
      "      (1): ConvBlock(\n",
      "        (conv): Conv2d(448, 384, kernel_size=(3, 3), stride=(1, 1), padding=(1, 1))\n",
      "        (bn): BatchNorm2d(384, eps=1e-05, momentum=0.1, affine=True, track_running_stats=True)\n",
      "        (act): ReLU()\n",
      "      )\n",
      "    )\n",
      "    (branch1_top): ConvBlock(\n",
      "      (conv): Conv2d(384, 384, kernel_size=(1, 3), stride=(1, 1), padding=(0, 1))\n",
      "      (bn): BatchNorm2d(384, eps=1e-05, momentum=0.1, affine=True, track_running_stats=True)\n",
      "      (act): ReLU()\n",
      "    )\n",
      "    (branch1_bot): ConvBlock(\n",
      "      (conv): Conv2d(384, 384, kernel_size=(3, 1), stride=(1, 1), padding=(1, 0))\n",
      "      (bn): BatchNorm2d(384, eps=1e-05, momentum=0.1, affine=True, track_running_stats=True)\n",
      "      (act): ReLU()\n",
      "    )\n",
      "    (branch2): ConvBlock(\n",
      "      (conv): Conv2d(1280, 384, kernel_size=(1, 1), stride=(1, 1))\n",
      "      (bn): BatchNorm2d(384, eps=1e-05, momentum=0.1, affine=True, track_running_stats=True)\n",
      "      (act): ReLU()\n",
      "    )\n",
      "    (branch2_top): ConvBlock(\n",
      "      (conv): Conv2d(384, 384, kernel_size=(1, 3), stride=(1, 1), padding=(0, 1))\n",
      "      (bn): BatchNorm2d(384, eps=1e-05, momentum=0.1, affine=True, track_running_stats=True)\n",
      "      (act): ReLU()\n",
      "    )\n",
      "    (branch2_bot): ConvBlock(\n",
      "      (conv): Conv2d(384, 384, kernel_size=(3, 1), stride=(1, 1), padding=(1, 0))\n",
      "      (bn): BatchNorm2d(384, eps=1e-05, momentum=0.1, affine=True, track_running_stats=True)\n",
      "      (act): ReLU()\n",
      "    )\n",
      "    (branch3): Sequential(\n",
      "      (0): MaxPool2d(kernel_size=3, stride=1, padding=1, dilation=1, ceil_mode=False)\n",
      "      (1): ConvBlock(\n",
      "        (conv): Conv2d(1280, 192, kernel_size=(1, 1), stride=(1, 1))\n",
      "        (bn): BatchNorm2d(192, eps=1e-05, momentum=0.1, affine=True, track_running_stats=True)\n",
      "        (act): ReLU()\n",
      "      )\n",
      "    )\n",
      "    (branch4): Sequential(\n",
      "      (0): ConvBlock(\n",
      "        (conv): Conv2d(1280, 320, kernel_size=(1, 1), stride=(1, 1))\n",
      "        (bn): BatchNorm2d(320, eps=1e-05, momentum=0.1, affine=True, track_running_stats=True)\n",
      "        (act): ReLU()\n",
      "      )\n",
      "    )\n",
      "  )\n",
      "  (inception5b): InceptionF7(\n",
      "    (branch1): Sequential(\n",
      "      (0): ConvBlock(\n",
      "        (conv): Conv2d(2048, 448, kernel_size=(1, 1), stride=(1, 1))\n",
      "        (bn): BatchNorm2d(448, eps=1e-05, momentum=0.1, affine=True, track_running_stats=True)\n",
      "        (act): ReLU()\n",
      "      )\n",
      "      (1): ConvBlock(\n",
      "        (conv): Conv2d(448, 384, kernel_size=(3, 3), stride=(1, 1), padding=(1, 1))\n",
      "        (bn): BatchNorm2d(384, eps=1e-05, momentum=0.1, affine=True, track_running_stats=True)\n",
      "        (act): ReLU()\n",
      "      )\n",
      "    )\n",
      "    (branch1_top): ConvBlock(\n",
      "      (conv): Conv2d(384, 384, kernel_size=(1, 3), stride=(1, 1), padding=(0, 1))\n",
      "      (bn): BatchNorm2d(384, eps=1e-05, momentum=0.1, affine=True, track_running_stats=True)\n",
      "      (act): ReLU()\n",
      "    )\n",
      "    (branch1_bot): ConvBlock(\n",
      "      (conv): Conv2d(384, 384, kernel_size=(3, 1), stride=(1, 1), padding=(1, 0))\n",
      "      (bn): BatchNorm2d(384, eps=1e-05, momentum=0.1, affine=True, track_running_stats=True)\n",
      "      (act): ReLU()\n",
      "    )\n",
      "    (branch2): ConvBlock(\n",
      "      (conv): Conv2d(2048, 384, kernel_size=(1, 1), stride=(1, 1))\n",
      "      (bn): BatchNorm2d(384, eps=1e-05, momentum=0.1, affine=True, track_running_stats=True)\n",
      "      (act): ReLU()\n",
      "    )\n",
      "    (branch2_top): ConvBlock(\n",
      "      (conv): Conv2d(384, 384, kernel_size=(1, 3), stride=(1, 1), padding=(0, 1))\n",
      "      (bn): BatchNorm2d(384, eps=1e-05, momentum=0.1, affine=True, track_running_stats=True)\n",
      "      (act): ReLU()\n",
      "    )\n",
      "    (branch2_bot): ConvBlock(\n",
      "      (conv): Conv2d(384, 384, kernel_size=(3, 1), stride=(1, 1), padding=(1, 0))\n",
      "      (bn): BatchNorm2d(384, eps=1e-05, momentum=0.1, affine=True, track_running_stats=True)\n",
      "      (act): ReLU()\n",
      "    )\n",
      "    (branch3): Sequential(\n",
      "      (0): MaxPool2d(kernel_size=3, stride=1, padding=1, dilation=1, ceil_mode=False)\n",
      "      (1): ConvBlock(\n",
      "        (conv): Conv2d(2048, 192, kernel_size=(1, 1), stride=(1, 1))\n",
      "        (bn): BatchNorm2d(192, eps=1e-05, momentum=0.1, affine=True, track_running_stats=True)\n",
      "        (act): ReLU()\n",
      "      )\n",
      "    )\n",
      "    (branch4): Sequential(\n",
      "      (0): ConvBlock(\n",
      "        (conv): Conv2d(2048, 320, kernel_size=(1, 1), stride=(1, 1))\n",
      "        (bn): BatchNorm2d(320, eps=1e-05, momentum=0.1, affine=True, track_running_stats=True)\n",
      "        (act): ReLU()\n",
      "      )\n",
      "    )\n",
      "  )\n",
      "  (pool6): AdaptiveAvgPool2d(output_size=(1, 1))\n",
      "  (dropout): Dropout(p=0.4, inplace=False)\n",
      "  (fc): Linear(in_features=2048, out_features=10, bias=True)\n",
      ")\n"
     ]
    }
   ],
   "source": [
    "OUTPUT_DIM = 10\n",
    "\n",
    "model = inception_v2()\n",
    "print(model)"
   ]
  },
  {
   "cell_type": "markdown",
   "metadata": {
    "colab_type": "text",
    "id": "O9Dkc_uBXVoy"
   },
   "source": [
    "Then we'll see how many trainable parameters our model has. \n",
    "\n",
    "Our LeNet architecture had ~44k, but here we have 6.2M parameters - and GooLeNet is a relatively small model for computer vision."
   ]
  },
  {
   "cell_type": "code",
   "execution_count": 14,
   "metadata": {
    "colab": {
     "base_uri": "https://localhost:8080/",
     "height": 33
    },
    "colab_type": "code",
    "id": "3g-pV7t2Iafs",
    "outputId": "32946ab7-a380-44fc-ea2b-33ad4ab02aa2"
   },
   "outputs": [
    {
     "name": "stdout",
     "output_type": "stream",
     "text": [
      "The model has 25,420,856 trainable parameters\n"
     ]
    }
   ],
   "source": [
    "def count_parameters(model):\n",
    "    return sum(p.numel() for p in model.parameters() if p.requires_grad)\n",
    "\n",
    "print(f'The model has {count_parameters(model):,} trainable parameters')"
   ]
  },
  {
   "cell_type": "markdown",
   "metadata": {
    "colab_type": "text",
    "id": "n99m5MPZXVo1"
   },
   "source": [
    "\n",
    "\n"
   ]
  },
  {
   "cell_type": "markdown",
   "metadata": {
    "colab_type": "text",
    "id": "-gyHsCBNXVo5"
   },
   "source": [
    "## Training the Model\n",
    "\n",
    "Next up is the learning rate finder. The code here is taken from a stripped down and slightly modified version of the excellent [pytorch-lr-finder](https://github.com/davidtvs/pytorch-lr-finder). \n",
    "\n",
    "**Note**: the learning rate finder is more of an art than a science. It is not going to find an exact learning rate to 10 decimal places which will always give us 100% accuracy - but it is usually going to be better than just picking a learning rate out of thin air.  \n",
    "\n",
    "The most commonly used optimizer used is Adam. Adam's default learning rate is usually a fine choice but, much like how we manually initialized our parameters to potentially get some performance improvement, we can try and calculate an optimal learning rate manually.\n",
    "\n",
    "How does the learning rate finder work? We give the finder our model, optimizer and criterion we want to use. However we give it an optimizer with a much lower learning rate than we are expecting to use. We then train the model on the batches of data from the training set - calculating the loss and updating the parameters. After each batch we increase the learning rate exponentially from the initial, extremely low learning rate to a learning rate we know will be too high. This repeats until our loss diverges (over 5x the best loss achieved) or we reach our defined maximum learning rate. \n",
    "\n",
    "At each batch we are recording the learning rate and the loss achieved on that batch. By plotting them against each other we can find a suitable learning rate - but more on how to do that in a bit.\n",
    "\n",
    "The losses calculated are usually quite noisy so we actually save the exponentially weighted average of the loss calculated. \n",
    "\n",
    "We also want to use our initialized parameters, not the ones obtained by upgrading the parameters when performing the learning rate finder. Hence we save the model parameters to disk when initializing the finder and then they are reset to our desired initialized ones just before the `range_test` function returns by loading the initial values from disk."
   ]
  },
  {
   "cell_type": "code",
   "execution_count": 15,
   "metadata": {
    "colab": {},
    "colab_type": "code",
    "id": "HO-LYudEIaf2"
   },
   "outputs": [],
   "source": [
    "class LRFinder:\n",
    "    def __init__(self, model, optimizer, criterion, device):\n",
    "        self.optimizer = optimizer\n",
    "        self.model = model\n",
    "        self.criterion = criterion\n",
    "        self.device = device\n",
    "        torch.save(model.state_dict(), 'init_params.pt')\n",
    "\n",
    "    def range_test(self, iterator, end_lr=10, num_iter=100,\n",
    "                   smooth_f=0.05, diverge_th=5):\n",
    "        lrs = []\n",
    "        losses = []\n",
    "        best_loss = float('inf')\n",
    "\n",
    "        lr_scheduler = ExponentialLR(self.optimizer, end_lr, num_iter)\n",
    "\n",
    "        iterator = IteratorWrapper(iterator)\n",
    "\n",
    "        for iteration in range(num_iter):\n",
    "            loss = self._train_batch(iterator)\n",
    "\n",
    "            lrs.append(lr_scheduler.get_last_lr()[0])\n",
    "\n",
    "            # update lr\n",
    "            lr_scheduler.step()\n",
    "\n",
    "            if iteration > 0:\n",
    "                loss = smooth_f * loss + (1 - smooth_f) * losses[-1]\n",
    "\n",
    "            if loss < best_loss:\n",
    "                best_loss = loss\n",
    "\n",
    "            losses.append(loss)\n",
    "\n",
    "            if loss > diverge_th * best_loss:\n",
    "                print(\"Stopping early, the loss has diverged\")\n",
    "                break\n",
    "\n",
    "        # reset model to initial parameters\n",
    "        model.load_state_dict(torch.load('init_params.pt'))\n",
    "\n",
    "        return lrs, losses\n",
    "\n",
    "    def _train_batch(self, iterator):\n",
    "        self.model.train()\n",
    "\n",
    "        self.optimizer.zero_grad()\n",
    "\n",
    "        x, y = iterator.get_batch()\n",
    "\n",
    "        x = x.to(self.device)\n",
    "        y = y.to(self.device)\n",
    "\n",
    "        y_pred, _ = self.model(x)\n",
    "\n",
    "        loss = self.criterion(y_pred, y)\n",
    "\n",
    "        loss.backward()\n",
    "\n",
    "        self.optimizer.step()\n",
    "\n",
    "        return loss.item()\n",
    "\n",
    "\n",
    "class ExponentialLR(_LRScheduler):\n",
    "    def __init__(self, optimizer, end_lr, num_iter, last_epoch=-1):\n",
    "        self.end_lr = end_lr\n",
    "        self.num_iter = num_iter\n",
    "        super(ExponentialLR, self).__init__(optimizer, last_epoch)\n",
    "\n",
    "    def get_lr(self):\n",
    "        curr_iter = self.last_epoch\n",
    "        r = curr_iter / self.num_iter\n",
    "        return [base_lr * (self.end_lr / base_lr) ** r\n",
    "                for base_lr in self.base_lrs]\n",
    "\n",
    "\n",
    "class IteratorWrapper:\n",
    "    def __init__(self, iterator):\n",
    "        self.iterator = iterator\n",
    "        self._iterator = iter(iterator)\n",
    "\n",
    "    def __next__(self):\n",
    "        try:\n",
    "            inputs, labels = next(self._iterator)\n",
    "        except StopIteration:\n",
    "            self._iterator = iter(self.iterator)\n",
    "            inputs, labels, *_ = next(self._iterator)\n",
    "\n",
    "        return inputs, labels\n",
    "\n",
    "    def get_batch(self):\n",
    "        return next(self)"
   ]
  },
  {
   "cell_type": "markdown",
   "metadata": {
    "colab_type": "text",
    "id": "o-5vb3-dXVo8"
   },
   "source": [
    "To prepare to use the range finder we define an initial, very low starting learning rate and then create an instance of the optimizer we want to use with that learning rate.\n",
    "\n",
    "We then define the loss function we want to use, the device we'll use and place our model and criterion on to our device."
   ]
  },
  {
   "cell_type": "code",
   "execution_count": 16,
   "metadata": {},
   "outputs": [
    {
     "name": "stdout",
     "output_type": "stream",
     "text": [
      "True\n"
     ]
    }
   ],
   "source": [
    "print( torch.cuda.is_available() )"
   ]
  },
  {
   "cell_type": "code",
   "execution_count": 17,
   "metadata": {
    "colab": {},
    "colab_type": "code",
    "id": "5583ybdqIaf4"
   },
   "outputs": [],
   "source": [
    "START_LR = 1e-7\n",
    "\n",
    "optimizer = optim.Adam(model.parameters(), lr=START_LR)\n",
    "\n",
    "device = torch.device('cuda' if torch.cuda.is_available() else 'cpu')\n",
    "\n",
    "criterion = nn.CrossEntropyLoss()\n",
    "\n",
    "model = model.to(device)\n",
    "criterion = criterion.to(device)"
   ]
  },
  {
   "cell_type": "markdown",
   "metadata": {
    "colab_type": "text",
    "id": "f62J8sOuXVo-"
   },
   "source": [
    "Next, we'll finally use the range finder.\n",
    "\n",
    "We first create an instance of the finder class with the model, optimizer, loss function and device. Then we use `range_test` with the training iterator, the maximum learning rate and the number of iterations we want to use. "
   ]
  },
  {
   "cell_type": "code",
   "execution_count": 18,
   "metadata": {
    "colab": {
     "base_uri": "https://localhost:8080/",
     "height": 33
    },
    "colab_type": "code",
    "id": "BcA3kgLHIaf6",
    "outputId": "e1813db9-4c1d-4c68-ad68-069bd423006b"
   },
   "outputs": [
    {
     "name": "stdout",
     "output_type": "stream",
     "text": [
      "Stopping early, the loss has diverged\n"
     ]
    }
   ],
   "source": [
    "END_LR = 10\n",
    "NUM_ITER = 100\n",
    "\n",
    "lr_finder = LRFinder(model, optimizer, criterion, device)\n",
    "lrs, losses = lr_finder.range_test(train_iterator, END_LR, NUM_ITER)"
   ]
  },
  {
   "cell_type": "markdown",
   "metadata": {
    "colab_type": "text",
    "id": "EPd2y04tXVpE"
   },
   "source": [
    "Next, we can plot the learning rate against the loss. \n",
    "\n",
    "As our learning rate was scaled up exponentially we want to plot it on a logarithmic scale. We also do not want to plot the last few values as they are usually where the loss is very high and makes it difficult to examine the graph in detail. You can also skip the first few values as nothing interesting happens there."
   ]
  },
  {
   "cell_type": "code",
   "execution_count": 19,
   "metadata": {
    "colab": {},
    "colab_type": "code",
    "id": "4h0DrKqrIaf9"
   },
   "outputs": [],
   "source": [
    "def plot_lr_finder(lrs, losses, skip_start=5, skip_end=5):\n",
    "    if skip_end == 0:\n",
    "        lrs = lrs[skip_start:]\n",
    "        losses = losses[skip_start:]\n",
    "    else:\n",
    "        lrs = lrs[skip_start:-skip_end]\n",
    "        losses = losses[skip_start:-skip_end]\n",
    "\n",
    "    fig = plt.figure(figsize=(16, 8))\n",
    "    ax = fig.add_subplot(1, 1, 1)\n",
    "    ax.plot(lrs, losses)\n",
    "    ax.set_xscale('log')\n",
    "    ax.set_xlabel('Learning rate')\n",
    "    ax.set_ylabel('Loss')\n",
    "    ax.grid(True, 'both', 'x')\n",
    "    plt.show()"
   ]
  },
  {
   "cell_type": "markdown",
   "metadata": {
    "colab_type": "text",
    "id": "n3zLyhwJXVpH"
   },
   "source": [
    "As we can see, the loss begins flat and then begins to decrease rapidly before reaching a minimum and starting to increase. \n",
    "\n",
    "How can we read this plot and get the optimal learning rate? According to [this](https://sgugger.github.io/how-do-you-find-a-good-learning-rate.html) article, we should look for the loss begins to flatten, this is around $10^{-2}$ below, and then reduce that by a factor of 10, which gives us a found learning rate of $10^{-3}$ or $0.001$."
   ]
  },
  {
   "cell_type": "code",
   "execution_count": 20,
   "metadata": {
    "colab": {
     "base_uri": "https://localhost:8080/",
     "height": 501
    },
    "colab_type": "code",
    "id": "WiivDPU3IagA",
    "outputId": "3957bf89-4362-4e58-b97a-c31d49df3c8d"
   },
   "outputs": [
    {
     "data": {
      "image/png": "[encoded data removed]",
      "text/plain": [
       "<Figure size 1600x800 with 1 Axes>"
      ]
     },
     "metadata": {},
     "output_type": "display_data"
    }
   ],
   "source": [
    "plot_lr_finder(lrs, losses)"
   ]
  },
  {
   "cell_type": "markdown",
   "metadata": {
    "colab_type": "text",
    "id": "WImHQVcvXVpK"
   },
   "source": [
    "We can now create a new optimizer with our found learning rate.\n",
    "\n",
    "Ironically, the learning rate value we found, $0.001$ is actually Adam's default learning rate!"
   ]
  },
  {
   "cell_type": "code",
   "execution_count": 21,
   "metadata": {
    "colab": {},
    "colab_type": "code",
    "id": "P6hTusQNIagD"
   },
   "outputs": [],
   "source": [
    "FOUND_LR = 1e-3\n",
    "\n",
    "optimizer = optim.Adam(model.parameters(), lr=FOUND_LR)"
   ]
  },
  {
   "cell_type": "markdown",
   "metadata": {
    "colab_type": "text",
    "id": "9HoBM4KEXVpS"
   },
   "source": [
    "The rest of the notebook is pretty similar to the previous notebooks from these tutorials.\n",
    "\n",
    "We define a function to calculate accuracy..."
   ]
  },
  {
   "cell_type": "code",
   "execution_count": 22,
   "metadata": {
    "colab": {},
    "colab_type": "code",
    "id": "TJj9fQ5WIagI"
   },
   "outputs": [],
   "source": [
    "def calculate_accuracy(y_pred, y):\n",
    "    top_pred = y_pred.argmax(1, keepdim=True)\n",
    "    correct = top_pred.eq(y.view_as(top_pred)).sum()\n",
    "    acc = correct.float() / y.shape[0]\n",
    "    return acc"
   ]
  },
  {
   "cell_type": "markdown",
   "metadata": {
    "colab_type": "text",
    "id": "WGjesEGDXVpV"
   },
   "source": [
    "...and a function to implement our training loop.\n",
    "\n",
    "As we are using dropout we need to make sure to \"turn it on\" when training by using `model.train()`."
   ]
  },
  {
   "cell_type": "code",
   "execution_count": 23,
   "metadata": {
    "colab": {},
    "colab_type": "code",
    "id": "e65mN1cGIagK"
   },
   "outputs": [],
   "source": [
    "def train(model, iterator, optimizer, criterion, device):\n",
    "    epoch_loss = 0\n",
    "    epoch_acc = 0\n",
    "    top3_train_accuracy = 0\n",
    "\n",
    "    model.train()\n",
    "\n",
    "    for (x, y) in tqdm(iterator, desc=\"Training\", leave=False):\n",
    "        x = x.to(device)\n",
    "        y = y.to(device)\n",
    "\n",
    "        optimizer.zero_grad()\n",
    "\n",
    "        y_pred, prediction1 = model(x)\n",
    "\n",
    "        # Compute the loss.\n",
    "        loss0 = criterion(y_pred, y)\n",
    "        loss1 = criterion(prediction1, y)\n",
    "        \n",
    "        loss = loss0 + 0.3 * loss1\n",
    "\n",
    "        acc = calculate_accuracy(y_pred, y)\n",
    "\n",
    "        loss.backward()\n",
    "\n",
    "        optimizer.step()\n",
    "\n",
    "        epoch_loss += loss.item()\n",
    "        epoch_acc += acc.item()\n",
    "        \n",
    "        ps = torch.exp(y_pred)\n",
    "        np_top3_class = ps.topk(3, dim=1)[1].cpu().numpy()\n",
    "        target_numpy = y.cpu().numpy()\n",
    "        top3_train_accuracy += np.mean([1 if target_numpy[i] in np_top3_class[i] else 0 for i in range(0, len(target_numpy))])\n",
    "\n",
    "    return (epoch_loss/len(iterator)), (epoch_acc/len(iterator)), (top3_train_accuracy/len(iterator))"
   ]
  },
  {
   "cell_type": "markdown",
   "metadata": {
    "colab_type": "text",
    "id": "U0usLljsXVpY"
   },
   "source": [
    "We also define an evaluation loop, making sure to \"turn off\" dropout with `model.eval()`."
   ]
  },
  {
   "cell_type": "code",
   "execution_count": 24,
   "metadata": {
    "colab": {},
    "colab_type": "code",
    "id": "gnUhGD9MIagM"
   },
   "outputs": [],
   "source": [
    "def evaluate(model, iterator, criterion, device):\n",
    "    epoch_loss = 0\n",
    "    epoch_acc = 0\n",
    "    top3_test_accuracy = 0\n",
    "\n",
    "    model.eval()\n",
    "\n",
    "    with torch.no_grad():\n",
    "        for (x, y) in tqdm(iterator, desc=\"Evaluating\", leave=False):\n",
    "            x = x.to(device)\n",
    "            y = y.to(device)\n",
    "\n",
    "            y_pred, _ = model(x)\n",
    "\n",
    "            loss = criterion(y_pred, y)\n",
    "\n",
    "            acc = calculate_accuracy(y_pred, y)\n",
    "\n",
    "            epoch_loss += loss.item()\n",
    "            epoch_acc += acc.item()\n",
    "            \n",
    "            ps = torch.exp(y_pred)\n",
    "            np_top3_class = ps.topk(3, dim=1)[1].cpu().numpy()\n",
    "            target_numpy = y.cpu().numpy()\n",
    "            top3_test_accuracy += np.mean([1 if target_numpy[i] in np_top3_class[i] else 0 for i in range(0, len(target_numpy))])\n",
    "            \n",
    "    return (epoch_loss/len(iterator)), (epoch_acc/len(iterator)), (top3_test_accuracy/len(iterator))"
   ]
  },
  {
   "cell_type": "markdown",
   "metadata": {
    "colab_type": "text",
    "id": "MkkzHBcoXVpa"
   },
   "source": [
    "Next, we define a function to tell us how long an epoch takes."
   ]
  },
  {
   "cell_type": "code",
   "execution_count": 25,
   "metadata": {
    "colab": {},
    "colab_type": "code",
    "id": "RX-Mwze-IagO"
   },
   "outputs": [],
   "source": [
    "def epoch_time(start_time, end_time):\n",
    "    elapsed_time = end_time - start_time\n",
    "    elapsed_mins = int(elapsed_time / 60)\n",
    "    elapsed_secs = int(elapsed_time - (elapsed_mins * 60))\n",
    "    return (elapsed_mins, elapsed_secs)"
   ]
  },
  {
   "cell_type": "markdown",
   "metadata": {
    "colab_type": "text",
    "id": "53srBoLAXVpe"
   },
   "source": [
    "Then, finally, we train our model.\n",
    "\n",
    "We get a best validation loss of ~88% accuracy."
   ]
  },
  {
   "cell_type": "code",
   "execution_count": 26,
   "metadata": {
    "colab": {
     "base_uri": "https://localhost:8080/",
     "height": 1000
    },
    "colab_type": "code",
    "id": "mN02GOocIagR",
    "outputId": "04ceaa5e-4894-4629-9664-422276b62bb0"
   },
   "outputs": [
    {
     "data": {
      "application/vnd.jupyter.widget-view+json": {
       "model_id": "5055a2c61cba497f9ae53ca29efb931e",
       "version_major": 2,
       "version_minor": 0
      },
      "text/plain": [
       "HBox(children=(FloatProgress(value=0.0, description='Epochs', max=30.0, style=ProgressStyle(description_width=…"
      ]
     },
     "metadata": {},
     "output_type": "display_data"
    },
    {
     "data": {
      "application/vnd.jupyter.widget-view+json": {
       "model_id": "",
       "version_major": 2,
       "version_minor": 0
      },
      "text/plain": [
       "HBox(children=(FloatProgress(value=0.0, description='Training', max=88.0, style=ProgressStyle(description_widt…"
      ]
     },
     "metadata": {},
     "output_type": "display_data"
    },
    {
     "data": {
      "application/vnd.jupyter.widget-view+json": {
       "model_id": "",
       "version_major": 2,
       "version_minor": 0
      },
      "text/plain": [
       "HBox(children=(FloatProgress(value=0.0, description='Evaluating', max=10.0, style=ProgressStyle(description_wi…"
      ]
     },
     "metadata": {},
     "output_type": "display_data"
    },
    {
     "name": "stdout",
     "output_type": "stream",
     "text": [
      "Epoch: 01 | Epoch Time: 0m 34s\n",
      "\tTrain Loss: 2.359 | Train Acc: 31.86% | Top3 train Acc: 31.86%\n",
      "\t Val. Loss: 1.574 |  Val. Acc: 41.86% | Top3 valid Acc: 41.86%\n"
     ]
    },
    {
     "data": {
      "application/vnd.jupyter.widget-view+json": {
       "model_id": "",
       "version_major": 2,
       "version_minor": 0
      },
      "text/plain": [
       "HBox(children=(FloatProgress(value=0.0, description='Training', max=88.0, style=ProgressStyle(description_widt…"
      ]
     },
     "metadata": {},
     "output_type": "display_data"
    },
    {
     "data": {
      "application/vnd.jupyter.widget-view+json": {
       "model_id": "",
       "version_major": 2,
       "version_minor": 0
      },
      "text/plain": [
       "HBox(children=(FloatProgress(value=0.0, description='Evaluating', max=10.0, style=ProgressStyle(description_wi…"
      ]
     },
     "metadata": {},
     "output_type": "display_data"
    },
    {
     "name": "stdout",
     "output_type": "stream",
     "text": [
      "Epoch: 02 | Epoch Time: 0m 34s\n",
      "\tTrain Loss: 1.779 | Train Acc: 50.35% | Top3 train Acc: 50.35%\n",
      "\t Val. Loss: 1.310 |  Val. Acc: 56.18% | Top3 valid Acc: 56.18%\n"
     ]
    },
    {
     "data": {
      "application/vnd.jupyter.widget-view+json": {
       "model_id": "",
       "version_major": 2,
       "version_minor": 0
      },
      "text/plain": [
       "HBox(children=(FloatProgress(value=0.0, description='Training', max=88.0, style=ProgressStyle(description_widt…"
      ]
     },
     "metadata": {},
     "output_type": "display_data"
    },
    {
     "data": {
      "application/vnd.jupyter.widget-view+json": {
       "model_id": "",
       "version_major": 2,
       "version_minor": 0
      },
      "text/plain": [
       "HBox(children=(FloatProgress(value=0.0, description='Evaluating', max=10.0, style=ProgressStyle(description_wi…"
      ]
     },
     "metadata": {},
     "output_type": "display_data"
    },
    {
     "name": "stdout",
     "output_type": "stream",
     "text": [
      "Epoch: 03 | Epoch Time: 0m 33s\n",
      "\tTrain Loss: 1.518 | Train Acc: 58.65% | Top3 train Acc: 58.65%\n",
      "\t Val. Loss: 6.414 |  Val. Acc: 42.90% | Top3 valid Acc: 42.90%\n"
     ]
    },
    {
     "data": {
      "application/vnd.jupyter.widget-view+json": {
       "model_id": "",
       "version_major": 2,
       "version_minor": 0
      },
      "text/plain": [
       "HBox(children=(FloatProgress(value=0.0, description='Training', max=88.0, style=ProgressStyle(description_widt…"
      ]
     },
     "metadata": {},
     "output_type": "display_data"
    },
    {
     "data": {
      "application/vnd.jupyter.widget-view+json": {
       "model_id": "",
       "version_major": 2,
       "version_minor": 0
      },
      "text/plain": [
       "HBox(children=(FloatProgress(value=0.0, description='Evaluating', max=10.0, style=ProgressStyle(description_wi…"
      ]
     },
     "metadata": {},
     "output_type": "display_data"
    },
    {
     "name": "stdout",
     "output_type": "stream",
     "text": [
      "Epoch: 04 | Epoch Time: 0m 35s\n",
      "\tTrain Loss: 1.307 | Train Acc: 64.78% | Top3 train Acc: 64.78%\n",
      "\t Val. Loss: 0.978 |  Val. Acc: 65.61% | Top3 valid Acc: 65.61%\n"
     ]
    },
    {
     "data": {
      "application/vnd.jupyter.widget-view+json": {
       "model_id": "",
       "version_major": 2,
       "version_minor": 0
      },
      "text/plain": [
       "HBox(children=(FloatProgress(value=0.0, description='Training', max=88.0, style=ProgressStyle(description_widt…"
      ]
     },
     "metadata": {},
     "output_type": "display_data"
    },
    {
     "data": {
      "application/vnd.jupyter.widget-view+json": {
       "model_id": "",
       "version_major": 2,
       "version_minor": 0
      },
      "text/plain": [
       "HBox(children=(FloatProgress(value=0.0, description='Evaluating', max=10.0, style=ProgressStyle(description_wi…"
      ]
     },
     "metadata": {},
     "output_type": "display_data"
    },
    {
     "name": "stdout",
     "output_type": "stream",
     "text": [
      "Epoch: 05 | Epoch Time: 0m 34s\n",
      "\tTrain Loss: 1.106 | Train Acc: 70.50% | Top3 train Acc: 70.50%\n",
      "\t Val. Loss: 0.889 |  Val. Acc: 69.67% | Top3 valid Acc: 69.67%\n"
     ]
    },
    {
     "data": {
      "application/vnd.jupyter.widget-view+json": {
       "model_id": "",
       "version_major": 2,
       "version_minor": 0
      },
      "text/plain": [
       "HBox(children=(FloatProgress(value=0.0, description='Training', max=88.0, style=ProgressStyle(description_widt…"
      ]
     },
     "metadata": {},
     "output_type": "display_data"
    },
    {
     "data": {
      "application/vnd.jupyter.widget-view+json": {
       "model_id": "",
       "version_major": 2,
       "version_minor": 0
      },
      "text/plain": [
       "HBox(children=(FloatProgress(value=0.0, description='Evaluating', max=10.0, style=ProgressStyle(description_wi…"
      ]
     },
     "metadata": {},
     "output_type": "display_data"
    },
    {
     "name": "stdout",
     "output_type": "stream",
     "text": [
      "Epoch: 06 | Epoch Time: 0m 33s\n",
      "\tTrain Loss: 0.972 | Train Acc: 74.32% | Top3 train Acc: 74.32%\n",
      "\t Val. Loss: 1.137 |  Val. Acc: 71.80% | Top3 valid Acc: 71.80%\n"
     ]
    },
    {
     "data": {
      "application/vnd.jupyter.widget-view+json": {
       "model_id": "",
       "version_major": 2,
       "version_minor": 0
      },
      "text/plain": [
       "HBox(children=(FloatProgress(value=0.0, description='Training', max=88.0, style=ProgressStyle(description_widt…"
      ]
     },
     "metadata": {},
     "output_type": "display_data"
    },
    {
     "data": {
      "application/vnd.jupyter.widget-view+json": {
       "model_id": "",
       "version_major": 2,
       "version_minor": 0
      },
      "text/plain": [
       "HBox(children=(FloatProgress(value=0.0, description='Evaluating', max=10.0, style=ProgressStyle(description_wi…"
      ]
     },
     "metadata": {},
     "output_type": "display_data"
    },
    {
     "name": "stdout",
     "output_type": "stream",
     "text": [
      "Epoch: 07 | Epoch Time: 0m 34s\n",
      "\tTrain Loss: 0.909 | Train Acc: 76.18% | Top3 train Acc: 76.18%\n",
      "\t Val. Loss: 0.769 |  Val. Acc: 73.70% | Top3 valid Acc: 73.70%\n"
     ]
    },
    {
     "data": {
      "application/vnd.jupyter.widget-view+json": {
       "model_id": "",
       "version_major": 2,
       "version_minor": 0
      },
      "text/plain": [
       "HBox(children=(FloatProgress(value=0.0, description='Training', max=88.0, style=ProgressStyle(description_widt…"
      ]
     },
     "metadata": {},
     "output_type": "display_data"
    },
    {
     "data": {
      "application/vnd.jupyter.widget-view+json": {
       "model_id": "",
       "version_major": 2,
       "version_minor": 0
      },
      "text/plain": [
       "HBox(children=(FloatProgress(value=0.0, description='Evaluating', max=10.0, style=ProgressStyle(description_wi…"
      ]
     },
     "metadata": {},
     "output_type": "display_data"
    },
    {
     "name": "stdout",
     "output_type": "stream",
     "text": [
      "Epoch: 08 | Epoch Time: 0m 34s\n",
      "\tTrain Loss: 0.816 | Train Acc: 78.44% | Top3 train Acc: 78.44%\n",
      "\t Val. Loss: 0.682 |  Val. Acc: 77.02% | Top3 valid Acc: 77.02%\n"
     ]
    },
    {
     "data": {
      "application/vnd.jupyter.widget-view+json": {
       "model_id": "",
       "version_major": 2,
       "version_minor": 0
      },
      "text/plain": [
       "HBox(children=(FloatProgress(value=0.0, description='Training', max=88.0, style=ProgressStyle(description_widt…"
      ]
     },
     "metadata": {},
     "output_type": "display_data"
    },
    {
     "data": {
      "application/vnd.jupyter.widget-view+json": {
       "model_id": "",
       "version_major": 2,
       "version_minor": 0
      },
      "text/plain": [
       "HBox(children=(FloatProgress(value=0.0, description='Evaluating', max=10.0, style=ProgressStyle(description_wi…"
      ]
     },
     "metadata": {},
     "output_type": "display_data"
    },
    {
     "name": "stdout",
     "output_type": "stream",
     "text": [
      "Epoch: 09 | Epoch Time: 0m 33s\n",
      "\tTrain Loss: 0.721 | Train Acc: 81.18% | Top3 train Acc: 81.18%\n",
      "\t Val. Loss: 0.707 |  Val. Acc: 77.27% | Top3 valid Acc: 77.27%\n"
     ]
    },
    {
     "data": {
      "application/vnd.jupyter.widget-view+json": {
       "model_id": "",
       "version_major": 2,
       "version_minor": 0
      },
      "text/plain": [
       "HBox(children=(FloatProgress(value=0.0, description='Training', max=88.0, style=ProgressStyle(description_widt…"
      ]
     },
     "metadata": {},
     "output_type": "display_data"
    },
    {
     "data": {
      "application/vnd.jupyter.widget-view+json": {
       "model_id": "",
       "version_major": 2,
       "version_minor": 0
      },
      "text/plain": [
       "HBox(children=(FloatProgress(value=0.0, description='Evaluating', max=10.0, style=ProgressStyle(description_wi…"
      ]
     },
     "metadata": {},
     "output_type": "display_data"
    },
    {
     "name": "stdout",
     "output_type": "stream",
     "text": [
      "Epoch: 10 | Epoch Time: 0m 33s\n",
      "\tTrain Loss: 0.663 | Train Acc: 82.60% | Top3 train Acc: 82.60%\n",
      "\t Val. Loss: 1.250 |  Val. Acc: 59.89% | Top3 valid Acc: 59.89%\n"
     ]
    },
    {
     "data": {
      "application/vnd.jupyter.widget-view+json": {
       "model_id": "",
       "version_major": 2,
       "version_minor": 0
      },
      "text/plain": [
       "HBox(children=(FloatProgress(value=0.0, description='Training', max=88.0, style=ProgressStyle(description_widt…"
      ]
     },
     "metadata": {},
     "output_type": "display_data"
    },
    {
     "data": {
      "application/vnd.jupyter.widget-view+json": {
       "model_id": "",
       "version_major": 2,
       "version_minor": 0
      },
      "text/plain": [
       "HBox(children=(FloatProgress(value=0.0, description='Evaluating', max=10.0, style=ProgressStyle(description_wi…"
      ]
     },
     "metadata": {},
     "output_type": "display_data"
    },
    {
     "name": "stdout",
     "output_type": "stream",
     "text": [
      "Epoch: 11 | Epoch Time: 0m 34s\n",
      "\tTrain Loss: 0.646 | Train Acc: 83.25% | Top3 train Acc: 83.25%\n",
      "\t Val. Loss: 0.625 |  Val. Acc: 79.07% | Top3 valid Acc: 79.07%\n"
     ]
    },
    {
     "data": {
      "application/vnd.jupyter.widget-view+json": {
       "model_id": "",
       "version_major": 2,
       "version_minor": 0
      },
      "text/plain": [
       "HBox(children=(FloatProgress(value=0.0, description='Training', max=88.0, style=ProgressStyle(description_widt…"
      ]
     },
     "metadata": {},
     "output_type": "display_data"
    },
    {
     "data": {
      "application/vnd.jupyter.widget-view+json": {
       "model_id": "",
       "version_major": 2,
       "version_minor": 0
      },
      "text/plain": [
       "HBox(children=(FloatProgress(value=0.0, description='Evaluating', max=10.0, style=ProgressStyle(description_wi…"
      ]
     },
     "metadata": {},
     "output_type": "display_data"
    },
    {
     "name": "stdout",
     "output_type": "stream",
     "text": [
      "Epoch: 12 | Epoch Time: 0m 34s\n",
      "\tTrain Loss: 0.576 | Train Acc: 84.94% | Top3 train Acc: 84.94%\n",
      "\t Val. Loss: 0.613 |  Val. Acc: 79.99% | Top3 valid Acc: 79.99%\n"
     ]
    },
    {
     "data": {
      "application/vnd.jupyter.widget-view+json": {
       "model_id": "",
       "version_major": 2,
       "version_minor": 0
      },
      "text/plain": [
       "HBox(children=(FloatProgress(value=0.0, description='Training', max=88.0, style=ProgressStyle(description_widt…"
      ]
     },
     "metadata": {},
     "output_type": "display_data"
    },
    {
     "data": {
      "application/vnd.jupyter.widget-view+json": {
       "model_id": "",
       "version_major": 2,
       "version_minor": 0
      },
      "text/plain": [
       "HBox(children=(FloatProgress(value=0.0, description='Evaluating', max=10.0, style=ProgressStyle(description_wi…"
      ]
     },
     "metadata": {},
     "output_type": "display_data"
    },
    {
     "name": "stdout",
     "output_type": "stream",
     "text": [
      "Epoch: 13 | Epoch Time: 0m 34s\n",
      "\tTrain Loss: 0.526 | Train Acc: 86.31% | Top3 train Acc: 86.31%\n",
      "\t Val. Loss: 0.602 |  Val. Acc: 80.49% | Top3 valid Acc: 80.49%\n"
     ]
    },
    {
     "data": {
      "application/vnd.jupyter.widget-view+json": {
       "model_id": "",
       "version_major": 2,
       "version_minor": 0
      },
      "text/plain": [
       "HBox(children=(FloatProgress(value=0.0, description='Training', max=88.0, style=ProgressStyle(description_widt…"
      ]
     },
     "metadata": {},
     "output_type": "display_data"
    },
    {
     "data": {
      "application/vnd.jupyter.widget-view+json": {
       "model_id": "",
       "version_major": 2,
       "version_minor": 0
      },
      "text/plain": [
       "HBox(children=(FloatProgress(value=0.0, description='Evaluating', max=10.0, style=ProgressStyle(description_wi…"
      ]
     },
     "metadata": {},
     "output_type": "display_data"
    },
    {
     "name": "stdout",
     "output_type": "stream",
     "text": [
      "Epoch: 14 | Epoch Time: 0m 34s\n",
      "\tTrain Loss: 0.529 | Train Acc: 86.01% | Top3 train Acc: 86.01%\n",
      "\t Val. Loss: 0.545 |  Val. Acc: 82.65% | Top3 valid Acc: 82.65%\n"
     ]
    },
    {
     "data": {
      "application/vnd.jupyter.widget-view+json": {
       "model_id": "",
       "version_major": 2,
       "version_minor": 0
      },
      "text/plain": [
       "HBox(children=(FloatProgress(value=0.0, description='Training', max=88.0, style=ProgressStyle(description_widt…"
      ]
     },
     "metadata": {},
     "output_type": "display_data"
    },
    {
     "data": {
      "application/vnd.jupyter.widget-view+json": {
       "model_id": "",
       "version_major": 2,
       "version_minor": 0
      },
      "text/plain": [
       "HBox(children=(FloatProgress(value=0.0, description='Evaluating', max=10.0, style=ProgressStyle(description_wi…"
      ]
     },
     "metadata": {},
     "output_type": "display_data"
    },
    {
     "name": "stdout",
     "output_type": "stream",
     "text": [
      "Epoch: 15 | Epoch Time: 0m 34s\n",
      "\tTrain Loss: 0.474 | Train Acc: 87.59% | Top3 train Acc: 87.59%\n",
      "\t Val. Loss: 0.535 |  Val. Acc: 83.41% | Top3 valid Acc: 83.41%\n"
     ]
    },
    {
     "data": {
      "application/vnd.jupyter.widget-view+json": {
       "model_id": "",
       "version_major": 2,
       "version_minor": 0
      },
      "text/plain": [
       "HBox(children=(FloatProgress(value=0.0, description='Training', max=88.0, style=ProgressStyle(description_widt…"
      ]
     },
     "metadata": {},
     "output_type": "display_data"
    },
    {
     "data": {
      "application/vnd.jupyter.widget-view+json": {
       "model_id": "",
       "version_major": 2,
       "version_minor": 0
      },
      "text/plain": [
       "HBox(children=(FloatProgress(value=0.0, description='Evaluating', max=10.0, style=ProgressStyle(description_wi…"
      ]
     },
     "metadata": {},
     "output_type": "display_data"
    },
    {
     "name": "stdout",
     "output_type": "stream",
     "text": [
      "Epoch: 16 | Epoch Time: 0m 34s\n",
      "\tTrain Loss: 0.437 | Train Acc: 88.51% | Top3 train Acc: 88.51%\n",
      "\t Val. Loss: 0.516 |  Val. Acc: 84.00% | Top3 valid Acc: 84.00%\n"
     ]
    },
    {
     "data": {
      "application/vnd.jupyter.widget-view+json": {
       "model_id": "",
       "version_major": 2,
       "version_minor": 0
      },
      "text/plain": [
       "HBox(children=(FloatProgress(value=0.0, description='Training', max=88.0, style=ProgressStyle(description_widt…"
      ]
     },
     "metadata": {},
     "output_type": "display_data"
    },
    {
     "data": {
      "application/vnd.jupyter.widget-view+json": {
       "model_id": "",
       "version_major": 2,
       "version_minor": 0
      },
      "text/plain": [
       "HBox(children=(FloatProgress(value=0.0, description='Evaluating', max=10.0, style=ProgressStyle(description_wi…"
      ]
     },
     "metadata": {},
     "output_type": "display_data"
    },
    {
     "name": "stdout",
     "output_type": "stream",
     "text": [
      "Epoch: 17 | Epoch Time: 0m 33s\n",
      "\tTrain Loss: 0.416 | Train Acc: 89.03% | Top3 train Acc: 89.03%\n",
      "\t Val. Loss: 0.528 |  Val. Acc: 83.34% | Top3 valid Acc: 83.34%\n"
     ]
    },
    {
     "data": {
      "application/vnd.jupyter.widget-view+json": {
       "model_id": "",
       "version_major": 2,
       "version_minor": 0
      },
      "text/plain": [
       "HBox(children=(FloatProgress(value=0.0, description='Training', max=88.0, style=ProgressStyle(description_widt…"
      ]
     },
     "metadata": {},
     "output_type": "display_data"
    },
    {
     "data": {
      "application/vnd.jupyter.widget-view+json": {
       "model_id": "",
       "version_major": 2,
       "version_minor": 0
      },
      "text/plain": [
       "HBox(children=(FloatProgress(value=0.0, description='Evaluating', max=10.0, style=ProgressStyle(description_wi…"
      ]
     },
     "metadata": {},
     "output_type": "display_data"
    },
    {
     "name": "stdout",
     "output_type": "stream",
     "text": [
      "Epoch: 18 | Epoch Time: 0m 33s\n",
      "\tTrain Loss: 0.393 | Train Acc: 89.69% | Top3 train Acc: 89.69%\n",
      "\t Val. Loss: 0.580 |  Val. Acc: 81.53% | Top3 valid Acc: 81.53%\n"
     ]
    },
    {
     "data": {
      "application/vnd.jupyter.widget-view+json": {
       "model_id": "",
       "version_major": 2,
       "version_minor": 0
      },
      "text/plain": [
       "HBox(children=(FloatProgress(value=0.0, description='Training', max=88.0, style=ProgressStyle(description_widt…"
      ]
     },
     "metadata": {},
     "output_type": "display_data"
    },
    {
     "data": {
      "application/vnd.jupyter.widget-view+json": {
       "model_id": "",
       "version_major": 2,
       "version_minor": 0
      },
      "text/plain": [
       "HBox(children=(FloatProgress(value=0.0, description='Evaluating', max=10.0, style=ProgressStyle(description_wi…"
      ]
     },
     "metadata": {},
     "output_type": "display_data"
    },
    {
     "name": "stdout",
     "output_type": "stream",
     "text": [
      "Epoch: 19 | Epoch Time: 0m 34s\n",
      "\tTrain Loss: 0.377 | Train Acc: 90.07% | Top3 train Acc: 90.07%\n",
      "\t Val. Loss: 0.485 |  Val. Acc: 84.35% | Top3 valid Acc: 84.35%\n"
     ]
    },
    {
     "data": {
      "application/vnd.jupyter.widget-view+json": {
       "model_id": "",
       "version_major": 2,
       "version_minor": 0
      },
      "text/plain": [
       "HBox(children=(FloatProgress(value=0.0, description='Training', max=88.0, style=ProgressStyle(description_widt…"
      ]
     },
     "metadata": {},
     "output_type": "display_data"
    },
    {
     "data": {
      "application/vnd.jupyter.widget-view+json": {
       "model_id": "",
       "version_major": 2,
       "version_minor": 0
      },
      "text/plain": [
       "HBox(children=(FloatProgress(value=0.0, description='Evaluating', max=10.0, style=ProgressStyle(description_wi…"
      ]
     },
     "metadata": {},
     "output_type": "display_data"
    },
    {
     "name": "stdout",
     "output_type": "stream",
     "text": [
      "Epoch: 20 | Epoch Time: 0m 35s\n",
      "\tTrain Loss: 0.349 | Train Acc: 90.57% | Top3 train Acc: 90.57%\n",
      "\t Val. Loss: 0.479 |  Val. Acc: 84.98% | Top3 valid Acc: 84.98%\n"
     ]
    },
    {
     "data": {
      "application/vnd.jupyter.widget-view+json": {
       "model_id": "",
       "version_major": 2,
       "version_minor": 0
      },
      "text/plain": [
       "HBox(children=(FloatProgress(value=0.0, description='Training', max=88.0, style=ProgressStyle(description_widt…"
      ]
     },
     "metadata": {},
     "output_type": "display_data"
    },
    {
     "data": {
      "application/vnd.jupyter.widget-view+json": {
       "model_id": "",
       "version_major": 2,
       "version_minor": 0
      },
      "text/plain": [
       "HBox(children=(FloatProgress(value=0.0, description='Evaluating', max=10.0, style=ProgressStyle(description_wi…"
      ]
     },
     "metadata": {},
     "output_type": "display_data"
    },
    {
     "name": "stdout",
     "output_type": "stream",
     "text": [
      "Epoch: 21 | Epoch Time: 0m 33s\n",
      "\tTrain Loss: 0.336 | Train Acc: 91.15% | Top3 train Acc: 91.15%\n",
      "\t Val. Loss: 0.507 |  Val. Acc: 84.14% | Top3 valid Acc: 84.14%\n"
     ]
    },
    {
     "data": {
      "application/vnd.jupyter.widget-view+json": {
       "model_id": "",
       "version_major": 2,
       "version_minor": 0
      },
      "text/plain": [
       "HBox(children=(FloatProgress(value=0.0, description='Training', max=88.0, style=ProgressStyle(description_widt…"
      ]
     },
     "metadata": {},
     "output_type": "display_data"
    },
    {
     "data": {
      "application/vnd.jupyter.widget-view+json": {
       "model_id": "",
       "version_major": 2,
       "version_minor": 0
      },
      "text/plain": [
       "HBox(children=(FloatProgress(value=0.0, description='Evaluating', max=10.0, style=ProgressStyle(description_wi…"
      ]
     },
     "metadata": {},
     "output_type": "display_data"
    },
    {
     "name": "stdout",
     "output_type": "stream",
     "text": [
      "Epoch: 22 | Epoch Time: 0m 33s\n",
      "\tTrain Loss: 0.319 | Train Acc: 91.53% | Top3 train Acc: 91.53%\n",
      "\t Val. Loss: 0.507 |  Val. Acc: 84.28% | Top3 valid Acc: 84.28%\n"
     ]
    },
    {
     "data": {
      "application/vnd.jupyter.widget-view+json": {
       "model_id": "",
       "version_major": 2,
       "version_minor": 0
      },
      "text/plain": [
       "HBox(children=(FloatProgress(value=0.0, description='Training', max=88.0, style=ProgressStyle(description_widt…"
      ]
     },
     "metadata": {},
     "output_type": "display_data"
    },
    {
     "data": {
      "application/vnd.jupyter.widget-view+json": {
       "model_id": "",
       "version_major": 2,
       "version_minor": 0
      },
      "text/plain": [
       "HBox(children=(FloatProgress(value=0.0, description='Evaluating', max=10.0, style=ProgressStyle(description_wi…"
      ]
     },
     "metadata": {},
     "output_type": "display_data"
    },
    {
     "name": "stdout",
     "output_type": "stream",
     "text": [
      "Epoch: 23 | Epoch Time: 0m 33s\n",
      "\tTrain Loss: 0.293 | Train Acc: 92.23% | Top3 train Acc: 92.23%\n",
      "\t Val. Loss: 0.501 |  Val. Acc: 85.18% | Top3 valid Acc: 85.18%\n"
     ]
    },
    {
     "data": {
      "application/vnd.jupyter.widget-view+json": {
       "model_id": "",
       "version_major": 2,
       "version_minor": 0
      },
      "text/plain": [
       "HBox(children=(FloatProgress(value=0.0, description='Training', max=88.0, style=ProgressStyle(description_widt…"
      ]
     },
     "metadata": {},
     "output_type": "display_data"
    },
    {
     "data": {
      "application/vnd.jupyter.widget-view+json": {
       "model_id": "",
       "version_major": 2,
       "version_minor": 0
      },
      "text/plain": [
       "HBox(children=(FloatProgress(value=0.0, description='Evaluating', max=10.0, style=ProgressStyle(description_wi…"
      ]
     },
     "metadata": {},
     "output_type": "display_data"
    },
    {
     "name": "stdout",
     "output_type": "stream",
     "text": [
      "Epoch: 24 | Epoch Time: 0m 33s\n",
      "\tTrain Loss: 0.280 | Train Acc: 92.49% | Top3 train Acc: 92.49%\n",
      "\t Val. Loss: 0.642 |  Val. Acc: 82.09% | Top3 valid Acc: 82.09%\n"
     ]
    },
    {
     "data": {
      "application/vnd.jupyter.widget-view+json": {
       "model_id": "",
       "version_major": 2,
       "version_minor": 0
      },
      "text/plain": [
       "HBox(children=(FloatProgress(value=0.0, description='Training', max=88.0, style=ProgressStyle(description_widt…"
      ]
     },
     "metadata": {},
     "output_type": "display_data"
    },
    {
     "data": {
      "application/vnd.jupyter.widget-view+json": {
       "model_id": "",
       "version_major": 2,
       "version_minor": 0
      },
      "text/plain": [
       "HBox(children=(FloatProgress(value=0.0, description='Evaluating', max=10.0, style=ProgressStyle(description_wi…"
      ]
     },
     "metadata": {},
     "output_type": "display_data"
    },
    {
     "name": "stdout",
     "output_type": "stream",
     "text": [
      "Epoch: 25 | Epoch Time: 0m 33s\n",
      "\tTrain Loss: 0.265 | Train Acc: 93.02% | Top3 train Acc: 93.02%\n",
      "\t Val. Loss: 0.562 |  Val. Acc: 83.75% | Top3 valid Acc: 83.75%\n"
     ]
    },
    {
     "data": {
      "application/vnd.jupyter.widget-view+json": {
       "model_id": "",
       "version_major": 2,
       "version_minor": 0
      },
      "text/plain": [
       "HBox(children=(FloatProgress(value=0.0, description='Training', max=88.0, style=ProgressStyle(description_widt…"
      ]
     },
     "metadata": {},
     "output_type": "display_data"
    },
    {
     "data": {
      "application/vnd.jupyter.widget-view+json": {
       "model_id": "",
       "version_major": 2,
       "version_minor": 0
      },
      "text/plain": [
       "HBox(children=(FloatProgress(value=0.0, description='Evaluating', max=10.0, style=ProgressStyle(description_wi…"
      ]
     },
     "metadata": {},
     "output_type": "display_data"
    },
    {
     "name": "stdout",
     "output_type": "stream",
     "text": [
      "Epoch: 26 | Epoch Time: 0m 35s\n",
      "\tTrain Loss: 0.255 | Train Acc: 93.26% | Top3 train Acc: 93.26%\n",
      "\t Val. Loss: 0.460 |  Val. Acc: 86.14% | Top3 valid Acc: 86.14%\n"
     ]
    },
    {
     "data": {
      "application/vnd.jupyter.widget-view+json": {
       "model_id": "",
       "version_major": 2,
       "version_minor": 0
      },
      "text/plain": [
       "HBox(children=(FloatProgress(value=0.0, description='Training', max=88.0, style=ProgressStyle(description_widt…"
      ]
     },
     "metadata": {},
     "output_type": "display_data"
    },
    {
     "data": {
      "application/vnd.jupyter.widget-view+json": {
       "model_id": "",
       "version_major": 2,
       "version_minor": 0
      },
      "text/plain": [
       "HBox(children=(FloatProgress(value=0.0, description='Evaluating', max=10.0, style=ProgressStyle(description_wi…"
      ]
     },
     "metadata": {},
     "output_type": "display_data"
    },
    {
     "name": "stdout",
     "output_type": "stream",
     "text": [
      "Epoch: 27 | Epoch Time: 0m 34s\n",
      "\tTrain Loss: 0.247 | Train Acc: 93.51% | Top3 train Acc: 93.51%\n",
      "\t Val. Loss: 0.459 |  Val. Acc: 86.71% | Top3 valid Acc: 86.71%\n"
     ]
    },
    {
     "data": {
      "application/vnd.jupyter.widget-view+json": {
       "model_id": "",
       "version_major": 2,
       "version_minor": 0
      },
      "text/plain": [
       "HBox(children=(FloatProgress(value=0.0, description='Training', max=88.0, style=ProgressStyle(description_widt…"
      ]
     },
     "metadata": {},
     "output_type": "display_data"
    },
    {
     "data": {
      "application/vnd.jupyter.widget-view+json": {
       "model_id": "",
       "version_major": 2,
       "version_minor": 0
      },
      "text/plain": [
       "HBox(children=(FloatProgress(value=0.0, description='Evaluating', max=10.0, style=ProgressStyle(description_wi…"
      ]
     },
     "metadata": {},
     "output_type": "display_data"
    },
    {
     "name": "stdout",
     "output_type": "stream",
     "text": [
      "Epoch: 28 | Epoch Time: 0m 34s\n",
      "\tTrain Loss: 0.235 | Train Acc: 93.73% | Top3 train Acc: 93.73%\n",
      "\t Val. Loss: 0.456 |  Val. Acc: 86.48% | Top3 valid Acc: 86.48%\n"
     ]
    },
    {
     "data": {
      "application/vnd.jupyter.widget-view+json": {
       "model_id": "",
       "version_major": 2,
       "version_minor": 0
      },
      "text/plain": [
       "HBox(children=(FloatProgress(value=0.0, description='Training', max=88.0, style=ProgressStyle(description_widt…"
      ]
     },
     "metadata": {},
     "output_type": "display_data"
    },
    {
     "data": {
      "application/vnd.jupyter.widget-view+json": {
       "model_id": "",
       "version_major": 2,
       "version_minor": 0
      },
      "text/plain": [
       "HBox(children=(FloatProgress(value=0.0, description='Evaluating', max=10.0, style=ProgressStyle(description_wi…"
      ]
     },
     "metadata": {},
     "output_type": "display_data"
    },
    {
     "name": "stdout",
     "output_type": "stream",
     "text": [
      "Epoch: 29 | Epoch Time: 0m 33s\n",
      "\tTrain Loss: 0.221 | Train Acc: 94.20% | Top3 train Acc: 94.20%\n",
      "\t Val. Loss: 0.522 |  Val. Acc: 84.58% | Top3 valid Acc: 84.58%\n"
     ]
    },
    {
     "data": {
      "application/vnd.jupyter.widget-view+json": {
       "model_id": "",
       "version_major": 2,
       "version_minor": 0
      },
      "text/plain": [
       "HBox(children=(FloatProgress(value=0.0, description='Training', max=88.0, style=ProgressStyle(description_widt…"
      ]
     },
     "metadata": {},
     "output_type": "display_data"
    },
    {
     "data": {
      "application/vnd.jupyter.widget-view+json": {
       "model_id": "",
       "version_major": 2,
       "version_minor": 0
      },
      "text/plain": [
       "HBox(children=(FloatProgress(value=0.0, description='Evaluating', max=10.0, style=ProgressStyle(description_wi…"
      ]
     },
     "metadata": {},
     "output_type": "display_data"
    },
    {
     "name": "stdout",
     "output_type": "stream",
     "text": [
      "Epoch: 30 | Epoch Time: 0m 33s\n",
      "\tTrain Loss: 0.226 | Train Acc: 93.99% | Top3 train Acc: 93.99%\n",
      "\t Val. Loss: 0.457 |  Val. Acc: 86.50% | Top3 valid Acc: 86.50%\n",
      "\n"
     ]
    }
   ],
   "source": [
    "EPOCHS = 30\n",
    "train_stats = pd.DataFrame(columns = ['Epoch', 'Time per epoch', 'Avg time per step', \n",
    "                                      'Train loss', 'Train accuracy', 'Train top-3 accuracy', \n",
    "                                      'Test loss', 'Test accuracy', 'Test top-3 accuracy'])\n",
    "\n",
    "best_valid_loss = float('inf')\n",
    "\n",
    "for epoch in trange(EPOCHS, desc=\"Epochs\"):\n",
    "    start_time = time.monotonic()\n",
    "\n",
    "    train_loss, train_acc, top3_train_acc = train(model, train_iterator, optimizer, criterion, device)\n",
    "    valid_loss, valid_acc, top3_valid_acc = evaluate(model, valid_iterator, criterion, device)\n",
    "\n",
    "    if valid_loss < best_valid_loss:\n",
    "        best_valid_loss = valid_loss\n",
    "        torch.save(model.state_dict(), 'tut3-model.pt')\n",
    "\n",
    "    end_time = time.monotonic()\n",
    "\n",
    "    epoch_mins, epoch_secs = epoch_time(start_time, end_time)\n",
    "    time_elapsed = end_time - start_time\n",
    "\n",
    "    df = pd.DataFrame.from_dict(\n",
    "                [ {'Epoch': epoch, 'Time per epoch':time_elapsed, \n",
    "                  'Avg time per step': time_elapsed/len(train_iterator), \n",
    "                  'Train loss' : train_loss, \n",
    "                  'Train accuracy': train_acc, \n",
    "                  'Train top-3 accuracy':top3_train_acc,\n",
    "                  'Test loss' : valid_loss, \n",
    "                  'Test accuracy': valid_acc, \n",
    "                  'Test top-3 accuracy':top3_valid_acc} ] )\n",
    "    train_stats = pd.concat([ train_stats, df], ignore_index=True)\n",
    "    \n",
    "    print(f'Epoch: {epoch+1:02} | Epoch Time: {epoch_mins}m {epoch_secs}s')\n",
    "    print(f'\\tTrain Loss: {train_loss:.3f} | Train Acc: {train_acc*100:.2f}% | Top3 train Acc: {train_acc*100:.2f}%')  \n",
    "    print(f'\\t Val. Loss: {valid_loss:.3f} |  Val. Acc: {valid_acc*100:.2f}% | Top3 valid Acc: {valid_acc*100:.2f}%')"
   ]
  },
  {
   "cell_type": "markdown",
   "metadata": {},
   "source": [
    "Free cuda memory："
   ]
  },
  {
   "cell_type": "code",
   "execution_count": 27,
   "metadata": {},
   "outputs": [],
   "source": [
    "torch.cuda.empty_cache()"
   ]
  },
  {
   "cell_type": "markdown",
   "metadata": {},
   "source": [
    "Save training log to a csv file:"
   ]
  },
  {
   "cell_type": "code",
   "execution_count": 28,
   "metadata": {},
   "outputs": [],
   "source": [
    "train_stats.to_csv('train_log_DenseNet121.csv')"
   ]
  },
  {
   "cell_type": "markdown",
   "metadata": {},
   "source": [
    "### Analyze Training Log\n",
    "\n",
    "Plot test and train accuracy and test and train loss:"
   ]
  },
  {
   "cell_type": "code",
   "execution_count": 29,
   "metadata": {},
   "outputs": [
    {
     "data": {
      "text/plain": [
       "<matplotlib.legend.Legend at 0x7fc5325370a0>"
      ]
     },
     "execution_count": 29,
     "metadata": {},
     "output_type": "execute_result"
    },
    {
     "data": {
      "image/png": "[encoded data removed]",
      "text/plain": [
       "<Figure size 1000x700 with 1 Axes>"
      ]
     },
     "metadata": {},
     "output_type": "display_data"
    }
   ],
   "source": [
    "fig = plt.figure(figsize=(10,7))\n",
    "ax = plt.axes()\n",
    "\n",
    "plt.title(\"Loss\")\n",
    "plt.xlabel(\"Epochs\")\n",
    "plt.ylabel(\"Loss\");\n",
    "\n",
    "x = range(1, len(train_stats['Train loss'].values) + 1)\n",
    "ax.plot(x, train_stats['Train loss'].values, '-g', label='train loss');\n",
    "ax.plot(x, train_stats['Test loss'].values, '-b', label='test loss');\n",
    "\n",
    "plt.legend()"
   ]
  },
  {
   "cell_type": "code",
   "execution_count": 30,
   "metadata": {},
   "outputs": [
    {
     "data": {
      "text/plain": [
       "<matplotlib.legend.Legend at 0x7fc532547490>"
      ]
     },
     "execution_count": 30,
     "metadata": {},
     "output_type": "execute_result"
    },
    {
     "data": {
      "image/png": "[encoded data removed]",
      "text/plain": [
       "<Figure size 1000x700 with 1 Axes>"
      ]
     },
     "metadata": {},
     "output_type": "display_data"
    }
   ],
   "source": [
    "fig = plt.figure(figsize=(10,7))\n",
    "ax = plt.axes()\n",
    "\n",
    "plt.title(\"Accuracy\")\n",
    "plt.xlabel(\"Epochs\")\n",
    "plt.ylabel(\"Accuracy\");\n",
    "\n",
    "x = range(1, len(train_stats['Train accuracy'].values) + 1)\n",
    "ax.plot(x, train_stats['Train accuracy'].values, '-g', label='train accuracy');\n",
    "ax.plot(x, train_stats['Test accuracy'].values, '-b', label='test accuracy');\n",
    "\n",
    "plt.legend()"
   ]
  },
  {
   "cell_type": "markdown",
   "metadata": {
    "colab_type": "text",
    "id": "A7h-D2bEXVph"
   },
   "source": [
    "We then load the parameters of our model that achieved the best validation loss and evaluate this model on the test set to achieve a ~89% accuracy."
   ]
  },
  {
   "cell_type": "code",
   "execution_count": 31,
   "metadata": {
    "colab": {
     "base_uri": "https://localhost:8080/",
     "height": 33
    },
    "colab_type": "code",
    "id": "S4Z3pxPwIagX",
    "outputId": "232cdb45-68a7-4329-87e5-50fa7a653eb8"
   },
   "outputs": [
    {
     "data": {
      "application/vnd.jupyter.widget-view+json": {
       "model_id": "",
       "version_major": 2,
       "version_minor": 0
      },
      "text/plain": [
       "HBox(children=(FloatProgress(value=0.0, description='Evaluating', max=20.0, style=ProgressStyle(description_wi…"
      ]
     },
     "metadata": {},
     "output_type": "display_data"
    },
    {
     "name": "stdout",
     "output_type": "stream",
     "text": [
      "\r",
      "Test Loss: 0.484 | Test Acc: 85.49% | Top3 test Acc: 97.24%\n"
     ]
    }
   ],
   "source": [
    "model.load_state_dict(torch.load('tut3-model.pt'))\n",
    "\n",
    "test_loss, test_acc, top3_test_acc = evaluate(model, test_iterator, criterion, device)\n",
    "\n",
    "print(f'Test Loss: {test_loss:.3f} | Test Acc: {test_acc*100:.2f}% | Top3 test Acc: {top3_test_acc*100:.2f}%')\n",
    "torch.cuda.empty_cache()"
   ]
  },
  {
   "cell_type": "markdown",
   "metadata": {
    "colab_type": "text",
    "id": "d6friQJRXVpj"
   },
   "source": [
    "### Examining the Model\n",
    "\n",
    "We will do the exact same probing into our model as we did in the previous notebooks: plotting a confusion matrix, plotting the most confident incorrect predictions, using PCA and t-SNE, and viewing the learned weights of our model.\n",
    "\n",
    "First, we'll collect all the predictions."
   ]
  },
  {
   "cell_type": "code",
   "execution_count": 32,
   "metadata": {
    "colab": {},
    "colab_type": "code",
    "id": "G6DndUWO1j9v"
   },
   "outputs": [],
   "source": [
    "def get_predictions(model, iterator, device):\n",
    "    model.eval()\n",
    "\n",
    "    images = []\n",
    "    labels = []\n",
    "    probs = []\n",
    "\n",
    "    with torch.no_grad():\n",
    "        for (x, y) in iterator:\n",
    "            x = x.to(device)\n",
    "\n",
    "            y_pred, _ = model(x)\n",
    "\n",
    "            y_prob = F.softmax(y_pred, dim=-1)\n",
    "\n",
    "            images.append(x.cpu())\n",
    "            labels.append(y.cpu())\n",
    "            probs.append(y_prob.cpu())\n",
    "\n",
    "    images = torch.cat(images, dim=0)\n",
    "    labels = torch.cat(labels, dim=0)\n",
    "    probs = torch.cat(probs, dim=0)\n",
    "\n",
    "    return (images, labels, probs)"
   ]
  },
  {
   "cell_type": "code",
   "execution_count": 33,
   "metadata": {
    "colab": {},
    "colab_type": "code",
    "id": "d56f4YuM1mtn"
   },
   "outputs": [],
   "source": [
    "images, labels, probs = get_predictions(model, test_iterator, device)"
   ]
  },
  {
   "cell_type": "markdown",
   "metadata": {
    "colab_type": "text",
    "id": "jxdELbG7XVpo"
   },
   "source": [
    "Then, for each prediction we get the predicted class."
   ]
  },
  {
   "cell_type": "code",
   "execution_count": 34,
   "metadata": {
    "colab": {},
    "colab_type": "code",
    "id": "D4MwRTwk1n89"
   },
   "outputs": [],
   "source": [
    "pred_labels = torch.argmax(probs, 1)"
   ]
  },
  {
   "cell_type": "markdown",
   "metadata": {
    "colab_type": "text",
    "id": "raQ9FkfyXVpr"
   },
   "source": [
    "Next, we plot the confusion matrix. This time we have edited the function to allow us to pass a list of strings which are the labels classes."
   ]
  },
  {
   "cell_type": "code",
   "execution_count": 35,
   "metadata": {
    "colab": {},
    "colab_type": "code",
    "id": "LDMamip01p0Z"
   },
   "outputs": [],
   "source": [
    "def plot_confusion_matrix(labels, pred_labels, classes):\n",
    "    fig = plt.figure(figsize=(10, 10))\n",
    "    ax = fig.add_subplot(1, 1, 1)\n",
    "    cm = confusion_matrix(labels, pred_labels)\n",
    "    cm = ConfusionMatrixDisplay(cm, display_labels=classes)\n",
    "    cm.plot(values_format='d', cmap='Blues', ax=ax)\n",
    "    plt.xticks(rotation=20)"
   ]
  },
  {
   "cell_type": "markdown",
   "metadata": {
    "colab_type": "text",
    "id": "BoaiRl6RXVps"
   },
   "source": [
    "The two classes our model seems to get mixed up the most is cat and dog."
   ]
  },
  {
   "cell_type": "code",
   "execution_count": 36,
   "metadata": {
    "colab": {
     "base_uri": "https://localhost:8080/",
     "height": 580
    },
    "colab_type": "code",
    "id": "bZsIeG2V1wBP",
    "outputId": "bdc35e3f-0569-4454-eee1-be16e960cea7"
   },
   "outputs": [
    {
     "data": {
      "image/png": "[encoded data removed]",
      "text/plain": [
       "<Figure size 1000x1000 with 2 Axes>"
      ]
     },
     "metadata": {},
     "output_type": "display_data"
    }
   ],
   "source": [
    "classes = test_data.classes\n",
    "plot_confusion_matrix(labels, pred_labels, classes)"
   ]
  },
  {
   "cell_type": "markdown",
   "metadata": {
    "colab_type": "text",
    "id": "X8D82wHWXVpv"
   },
   "source": [
    "We can then find which predictions were correct and then sort the incorrect predictions in descending order of their confidence."
   ]
  },
  {
   "cell_type": "code",
   "execution_count": 37,
   "metadata": {
    "colab": {},
    "colab_type": "code",
    "id": "s7S4bQ8T11Bm"
   },
   "outputs": [],
   "source": [
    "corrects = torch.eq(labels, pred_labels)"
   ]
  },
  {
   "cell_type": "code",
   "execution_count": 38,
   "metadata": {
    "colab": {},
    "colab_type": "code",
    "id": "TRbHfNH82iXd"
   },
   "outputs": [],
   "source": [
    "incorrect_examples = []\n",
    "\n",
    "for (image, label, prob, correct) in zip(images, labels, probs, corrects):\n",
    "    if not correct:\n",
    "        incorrect_examples.append((image, label, prob))\n",
    "\n",
    "incorrect_examples.sort(reverse=True,\n",
    "                        key=lambda x: torch.max(x[2], dim=0).values)"
   ]
  },
  {
   "cell_type": "code",
   "execution_count": 39,
   "metadata": {
    "colab": {},
    "colab_type": "code",
    "id": "TxAobfgH2kfF"
   },
   "outputs": [],
   "source": [
    "def plot_most_incorrect(incorrect, classes, n_images, normalize=True):\n",
    "    rows = int(np.sqrt(n_images))\n",
    "    cols = int(np.sqrt(n_images))\n",
    "\n",
    "    fig = plt.figure(figsize=(25, 20))\n",
    "\n",
    "    for i in range(rows*cols):\n",
    "        ax = fig.add_subplot(rows, cols, i+1)\n",
    "\n",
    "        image, true_label, probs = incorrect[i]\n",
    "        image = image.permute(1, 2, 0)\n",
    "        true_prob = probs[true_label]\n",
    "        incorrect_prob, incorrect_label = torch.max(probs, dim=0)\n",
    "        true_class = classes[true_label]\n",
    "        incorrect_class = classes[incorrect_label]\n",
    "\n",
    "        if normalize:\n",
    "            image = normalize_image(image)\n",
    "\n",
    "        ax.imshow(image.cpu().numpy())\n",
    "        ax.set_title(f'true label: {true_class} ({true_prob:.3f})\\n'\n",
    "                     f'pred label: {incorrect_class} ({incorrect_prob:.3f})')\n",
    "        ax.axis('off')\n",
    "\n",
    "    fig.subplots_adjust(hspace=0.4)"
   ]
  },
  {
   "cell_type": "markdown",
   "metadata": {
    "colab_type": "text",
    "id": "ina7RRxIXVp2"
   },
   "source": [
    "Interestingly, the most incorrect was an example that is incorrectly labelled in the dataset itself. It is clearly a frog, which our model predicted with 100% confidence, but the label is cat.\n",
    "\n",
    "Truck and automobile seem to be confused a lot but even to humans these two classes are slightly ambiguous."
   ]
  },
  {
   "cell_type": "code",
   "execution_count": 40,
   "metadata": {
    "colab": {
     "base_uri": "https://localhost:8080/",
     "height": 1000
    },
    "colab_type": "code",
    "id": "qbuZs4C32vNl",
    "outputId": "9aba07d0-6fa6-4314-9381-ececa3f09e31"
   },
   "outputs": [
    {
     "data": {
      "image/png": "[encoded data removed]",
      "text/plain": [
       "<Figure size 2500x2000 with 36 Axes>"
      ]
     },
     "metadata": {},
     "output_type": "display_data"
    }
   ],
   "source": [
    "N_IMAGES = 36\n",
    "\n",
    "plot_most_incorrect(incorrect_examples, classes, N_IMAGES)"
   ]
  },
  {
   "cell_type": "markdown",
   "metadata": {
    "colab_type": "text",
    "id": "2QLA7SJFXVp7"
   },
   "source": [
    "Next, we'll get the output and intermediate (after the flatten) representations."
   ]
  },
  {
   "cell_type": "code",
   "execution_count": 41,
   "metadata": {
    "colab": {},
    "colab_type": "code",
    "id": "oCAPWHbZ2yDa"
   },
   "outputs": [],
   "source": [
    "def get_representations(model, iterator, device):\n",
    "    model.eval()\n",
    "\n",
    "    outputs = []\n",
    "    intermediates = []\n",
    "    labels = []\n",
    "\n",
    "    with torch.no_grad():\n",
    "        for (x, y) in tqdm(iterator):\n",
    "            x = x.to(device)\n",
    "\n",
    "            y_pred, h = model(x)\n",
    "\n",
    "            outputs.append(y_pred.cpu())\n",
    "            intermediates.append(h.cpu())\n",
    "            labels.append(y)\n",
    "\n",
    "    outputs = torch.cat(outputs, dim=0)\n",
    "    intermediates = torch.cat(intermediates, dim=0)\n",
    "    labels = torch.cat(labels, dim=0)\n",
    "\n",
    "    return (outputs, intermediates, labels)"
   ]
  },
  {
   "cell_type": "code",
   "execution_count": 42,
   "metadata": {
    "colab": {},
    "colab_type": "code",
    "id": "rzUcnw-jUHVr"
   },
   "outputs": [
    {
     "data": {
      "application/vnd.jupyter.widget-view+json": {
       "model_id": "5b258552a45b493f9e199af35a635ccd",
       "version_major": 2,
       "version_minor": 0
      },
      "text/plain": [
       "HBox(children=(FloatProgress(value=0.0, max=88.0), HTML(value='')))"
      ]
     },
     "metadata": {},
     "output_type": "display_data"
    },
    {
     "name": "stdout",
     "output_type": "stream",
     "text": [
      "\n"
     ]
    }
   ],
   "source": [
    "outputs, intermediates, labels = get_representations(model,\n",
    "                                                     train_iterator,\n",
    "                                                     device)"
   ]
  },
  {
   "cell_type": "markdown",
   "metadata": {
    "colab_type": "text",
    "id": "4KKaVGuaXVp_"
   },
   "source": [
    "We can then perform PCA on them both and plot them."
   ]
  },
  {
   "cell_type": "code",
   "execution_count": null,
   "metadata": {
    "colab": {},
    "colab_type": "code",
    "id": "R_EKDz3vUegC"
   },
   "outputs": [],
   "source": [
    "def get_pca(data, n_components=2):\n",
    "    pca = decomposition.PCA()\n",
    "    pca.n_components = n_components\n",
    "    pca_data = pca.fit_transform(data)\n",
    "    return pca_data"
   ]
  },
  {
   "cell_type": "code",
   "execution_count": null,
   "metadata": {
    "colab": {},
    "colab_type": "code",
    "id": "MUpAtW46UhgS"
   },
   "outputs": [],
   "source": [
    "def plot_representations(data, labels, classes, n_images=None):\n",
    "    if n_images is not None:\n",
    "        data = data[:n_images]\n",
    "        labels = labels[:n_images]\n",
    "\n",
    "    fig = plt.figure(figsize=(10, 10))\n",
    "    ax = fig.add_subplot(111)\n",
    "    scatter = ax.scatter(data[:, 0], data[:, 1], c=labels, cmap='tab10')\n",
    "    handles, labels = scatter.legend_elements()\n",
    "    ax.legend(handles=handles, labels=classes)"
   ]
  },
  {
   "cell_type": "markdown",
   "metadata": {
    "colab_type": "text",
    "id": "4iTHBvJFXVqD"
   },
   "source": [
    "Like previous notebooks, the classes seem more separated in the output representations than the intermediate representations."
   ]
  },
  {
   "cell_type": "code",
   "execution_count": null,
   "metadata": {
    "colab": {
     "base_uri": "https://localhost:8080/",
     "height": 592
    },
    "colab_type": "code",
    "id": "ToygpaIkUjLg",
    "outputId": "920bea5e-92cc-4a8f-ecc5-1c04068d1e95"
   },
   "outputs": [],
   "source": [
    "output_pca_data = get_pca(outputs)\n",
    "plot_representations(output_pca_data, labels, classes)"
   ]
  },
  {
   "cell_type": "code",
   "execution_count": null,
   "metadata": {
    "colab": {
     "base_uri": "https://localhost:8080/",
     "height": 592
    },
    "colab_type": "code",
    "id": "-I0mXG3dUl1m",
    "outputId": "c5739f80-ec46-405c-d346-e21eb237d895"
   },
   "outputs": [],
   "source": [
    "intermediate_pca_data = get_pca(intermediates)\n",
    "plot_representations(intermediate_pca_data, labels, classes)"
   ]
  },
  {
   "cell_type": "markdown",
   "metadata": {
    "colab_type": "text",
    "id": "tJHwIfKaXVqI"
   },
   "source": [
    "We can do the same with the t-SNE algorithm. \n",
    "\n",
    "Again, we only use a subset of the data as t-SNE takes a considerable amount of time to compute.\n",
    "\n",
    "We also see that the classes are more well separated in the output representations compared to the intermediate representations."
   ]
  },
  {
   "cell_type": "code",
   "execution_count": null,
   "metadata": {
    "colab": {},
    "colab_type": "code",
    "id": "D1cCXjF5XDm7"
   },
   "outputs": [],
   "source": [
    "def get_tsne(data, n_components=2, n_images=None):\n",
    "    if n_images is not None:\n",
    "        data = data[:n_images]\n",
    "\n",
    "    tsne = manifold.TSNE(n_components=n_components, random_state=0)\n",
    "    tsne_data = tsne.fit_transform(data)\n",
    "    return tsne_data"
   ]
  },
  {
   "cell_type": "code",
   "execution_count": null,
   "metadata": {
    "colab": {
     "base_uri": "https://localhost:8080/",
     "height": 592
    },
    "colab_type": "code",
    "id": "eRBWfqGOXWCH",
    "outputId": "25f02bc5-45e5-47b6-9257-ed60752414ce"
   },
   "outputs": [],
   "source": [
    "N_IMAGES = 5_000\n",
    "\n",
    "output_tsne_data = get_tsne(outputs, n_images=N_IMAGES)\n",
    "plot_representations(output_tsne_data, labels, classes, n_images=N_IMAGES)"
   ]
  },
  {
   "cell_type": "code",
   "execution_count": null,
   "metadata": {
    "colab": {
     "base_uri": "https://localhost:8080/",
     "height": 592
    },
    "colab_type": "code",
    "id": "HRVE6XUCXYnI",
    "outputId": "d6667eef-bb15-499c-cee2-7d7af94fd92b"
   },
   "outputs": [],
   "source": [
    "intermediate_tsne_data = get_tsne(intermediates, n_images=N_IMAGES)\n",
    "plot_representations(intermediate_tsne_data, labels, classes, n_images=N_IMAGES)"
   ]
  },
  {
   "cell_type": "markdown",
   "metadata": {
    "colab_type": "text",
    "id": "Nyh_skghXVqM"
   },
   "source": [
    "We can also imagine an image belonging to a specified class. \n",
    "\n",
    "Spoilers: this didn't work in the previous notebooks, won't work here, and won't work in the future. This is the last time we'll attempt to generate an image.\n",
    "\n",
    "If you do know a simple method to generate images that look better than pure random noise, feel free to [submit an issue](https://github.com/bentrevett/pytorch-image-classification/issues) on how it is done and it can be added to these tutorials."
   ]
  },
  {
   "cell_type": "code",
   "execution_count": null,
   "metadata": {
    "colab": {},
    "colab_type": "code",
    "id": "VGjCxb5uXg-L"
   },
   "outputs": [],
   "source": [
    "def imagine_image(model, classes, image, device, n_iterations=10_000):\n",
    "    model.eval()\n",
    "\n",
    "    label = classes.index(image)\n",
    "\n",
    "    best_prob = 0\n",
    "    best_image = None\n",
    "\n",
    "    with torch.no_grad():\n",
    "        for _ in trange(n_iterations):\n",
    "            x = torch.randn(256, 3, 32, 32).to(device)\n",
    "\n",
    "            y_pred, _ = model(x)\n",
    "\n",
    "            preds = F.softmax(y_pred, dim=-1)\n",
    "\n",
    "            _best_prob, index = torch.max(preds[:, label], dim=0)\n",
    "\n",
    "            if _best_prob > best_prob:\n",
    "                best_prob = _best_prob\n",
    "                best_image = x[index]\n",
    "\n",
    "    return best_image, best_prob"
   ]
  },
  {
   "cell_type": "code",
   "execution_count": null,
   "metadata": {
    "colab": {},
    "colab_type": "code",
    "id": "ENPavLwyXktE"
   },
   "outputs": [],
   "source": [
    "IMAGE = 'frog'\n",
    "\n",
    "best_image, best_prob = imagine_image(model, classes, IMAGE, device)"
   ]
  },
  {
   "cell_type": "markdown",
   "metadata": {
    "colab_type": "text",
    "id": "94ctq4NVXVqP"
   },
   "source": [
    "We get an image that our model is ~100% confident is a frog, but just looks like random noise."
   ]
  },
  {
   "cell_type": "code",
   "execution_count": null,
   "metadata": {
    "colab": {
     "base_uri": "https://localhost:8080/",
     "height": 33
    },
    "colab_type": "code",
    "id": "MjfYMXltYeLy",
    "outputId": "7ea00499-06bf-4a46-d38e-c86553d867c8"
   },
   "outputs": [],
   "source": [
    "print(f'Best image probability: {best_prob.item()*100:.2f}%')"
   ]
  },
  {
   "cell_type": "code",
   "execution_count": null,
   "metadata": {
    "colab": {
     "base_uri": "https://localhost:8080/",
     "height": 247
    },
    "colab_type": "code",
    "id": "7IsyTreMYMi5",
    "outputId": "d243c2d3-cefa-4dca-bc21-ee547ef3b80d"
   },
   "outputs": [],
   "source": [
    "best_image = normalize_image(best_image)\n",
    "\n",
    "plt.imshow(best_image.permute(1, 2, 0).cpu().numpy())\n",
    "plt.axis('off');"
   ]
  },
  {
   "cell_type": "markdown",
   "metadata": {
    "colab_type": "text",
    "id": "JjVyMM9xXVqR"
   },
   "source": [
    "Next, we'll plot some images after they have been convolved with the first convolutional layer."
   ]
  },
  {
   "cell_type": "code",
   "execution_count": null,
   "metadata": {
    "colab": {},
    "colab_type": "code",
    "id": "i-iX81gAYr1U"
   },
   "outputs": [],
   "source": [
    "def plot_filtered_images(images, filters, n_filters=None, normalize=True):\n",
    "\n",
    "    images = torch.cat([i.unsqueeze(0) for i in images], dim=0).cpu()\n",
    "    filters = filters.cpu()\n",
    "\n",
    "    if n_filters is not None:\n",
    "        filters = filters[:n_filters]\n",
    "\n",
    "    n_images = images.shape[0]\n",
    "    n_filters = filters.shape[0]\n",
    "\n",
    "    filtered_images = F.conv2d(images, filters)\n",
    "\n",
    "    fig = plt.figure(figsize=(30, 30))\n",
    "\n",
    "    for i in range(n_images):\n",
    "        image = images[i]\n",
    "\n",
    "        if normalize:\n",
    "            image = normalize_image(image)\n",
    "\n",
    "        ax = fig.add_subplot(n_images, n_filters+1, i+1+(i*n_filters))\n",
    "        ax.imshow(image.permute(1, 2, 0).numpy())\n",
    "        ax.set_title('Original')\n",
    "        ax.axis('off')\n",
    "\n",
    "        for j in range(n_filters):\n",
    "            image = filtered_images[i][j]\n",
    "\n",
    "            if normalize:\n",
    "                image = normalize_image(image)\n",
    "\n",
    "            ax = fig.add_subplot(n_images, n_filters+1, i+1+(i*n_filters)+j+1)\n",
    "            ax.imshow(image.numpy(), cmap='bone')\n",
    "            ax.set_title(f'Filter {j+1}')\n",
    "            ax.axis('off')\n",
    "\n",
    "    fig.subplots_adjust(hspace=-0.7)"
   ]
  },
  {
   "cell_type": "markdown",
   "metadata": {
    "colab_type": "text",
    "id": "C5y92TbXXVqS"
   },
   "source": [
    "We can see different types of edge detection and blurring that the filters have learned that are apparently decent feature extractors for this model and task."
   ]
  },
  {
   "cell_type": "code",
   "execution_count": null,
   "metadata": {
    "colab": {
     "base_uri": "https://localhost:8080/",
     "height": 1000
    },
    "colab_type": "code",
    "id": "LjY35yaoZCmE",
    "outputId": "fff23ebd-e69d-4820-f454-94c69aae5725"
   },
   "outputs": [],
   "source": [
    "N_IMAGES = 5\n",
    "N_FILTERS = 7\n",
    "\n",
    "images = [image for image, label in [test_data[i] for i in range(N_IMAGES)]]\n",
    "#filters = model.features[0].weight.data\n",
    "filters = model.pre_layers[0].weight.data\n",
    "\n",
    "plot_filtered_images(images, filters, N_FILTERS)"
   ]
  },
  {
   "cell_type": "markdown",
   "metadata": {
    "colab_type": "text",
    "id": "2YFr4T1YXVqW"
   },
   "source": [
    "Finally, we can plot the actual filters our model has learned."
   ]
  },
  {
   "cell_type": "code",
   "execution_count": null,
   "metadata": {
    "colab": {},
    "colab_type": "code",
    "id": "ieaJiA8D7bpT"
   },
   "outputs": [],
   "source": [
    "def plot_filters(filters, normalize=True):\n",
    "    filters = filters.cpu()\n",
    "\n",
    "    n_filters = filters.shape[0]\n",
    "\n",
    "    rows = int(np.sqrt(n_filters))\n",
    "    cols = int(np.sqrt(n_filters))\n",
    "\n",
    "    fig = plt.figure(figsize=(20, 10))\n",
    "\n",
    "    for i in range(rows*cols):\n",
    "        image = filters[i]\n",
    "\n",
    "        if normalize:\n",
    "            image = normalize_image(image)\n",
    "\n",
    "        ax = fig.add_subplot(rows, cols, i+1)\n",
    "        ax.imshow(image.permute(1, 2, 0))\n",
    "        ax.axis('off')\n",
    "\n",
    "    fig.subplots_adjust(wspace=-0.9)"
   ]
  },
  {
   "cell_type": "markdown",
   "metadata": {
    "colab_type": "text",
    "id": "qRIC4tEgXVqY"
   },
   "source": [
    "Again, nothing really interpretable here, sadly."
   ]
  },
  {
   "cell_type": "code",
   "execution_count": null,
   "metadata": {
    "colab": {
     "base_uri": "https://localhost:8080/",
     "height": 574
    },
    "colab_type": "code",
    "id": "SU214ywn8sKJ",
    "outputId": "d35d6b5e-2bed-4c32-ceb3-6af37abb9b3b"
   },
   "outputs": [],
   "source": [
    "plot_filters(filters)"
   ]
  },
  {
   "cell_type": "markdown",
   "metadata": {
    "colab_type": "text",
    "id": "Q3a7yAczXVqa"
   },
   "source": [
    "### Conclusions\n",
    "\n",
    "In this notebook we have shown: \n",
    "- loading Torchvision datasets\n",
    "- loading transforms to augment and normalize our data\n",
    "- defining a CNN (GooLeNet)\n",
    "- custom weight initialization\n",
    "- how to use the learning rate finder\n",
    "- training a model to achieve >85% accuracy\n",
    "- viewing our model's mistakes\n",
    "- visualizing our data in lower dimensions with PCA and t-SNE\n",
    "- generating fake images\n",
    "- viewing the learned weights of our model\n",
    "- loading a pre-trained model"
   ]
  },
  {
   "cell_type": "markdown",
   "metadata": {},
   "source": [
    "## Free GPU memory"
   ]
  },
  {
   "cell_type": "code",
   "execution_count": null,
   "metadata": {},
   "outputs": [],
   "source": [
    "import os\n",
    " \n",
    "pid = os.getpid()\n",
    "!kill -9 $pid"
   ]
  },
  {
   "cell_type": "markdown",
   "metadata": {},
   "source": [
    "# End"
   ]
  }
 ],
 "metadata": {
  "accelerator": "GPU",
  "colab": {
   "collapsed_sections": [],
   "machine_shape": "hm",
   "name": "3 - AlexNet.ipynb",
   "provenance": []
  },
  "kernelspec": {
   "display_name": "Python 3 (ipykernel)",
   "language": "python",
   "name": "python3"
  },
  "language_info": {
   "codemirror_mode": {
    "name": "ipython",
    "version": 3
   },
   "file_extension": ".py",
   "mimetype": "text/x-python",
   "name": "python",
   "nbconvert_exporter": "python",
   "pygments_lexer": "ipython3",
   "version": "3.8.10"
  }
 },
 "nbformat": 4,
 "nbformat_minor": 1
}
